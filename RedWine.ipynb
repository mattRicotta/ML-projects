{
 "cells": [
  {
   "cell_type": "markdown",
   "id": "e16a6129-fb71-4638-82c9-7ab33a10d0dd",
   "metadata": {
    "tags": []
   },
   "source": [
    "---\n",
    "## Random Forest: Red Wine Quality\n",
    "\n",
    "Data set: http://archive.ics.uce.edu/ml/datasets/Wine+Quality\n",
    "\n"
   ]
  },
  {
   "cell_type": "code",
   "execution_count": 1,
   "id": "cdb5a3c8-3fc6-4330-aa46-7d08c3d9dd77",
   "metadata": {},
   "outputs": [
    {
     "name": "stdout",
     "output_type": "stream",
     "text": [
      "Index(['fixed acidity', 'volatile acidity', 'citric acid', 'residual sugar',\n",
      "       'chlorides', 'free sulfur dioxide', 'total sulfur dioxide', 'density',\n",
      "       'pH', 'sulphates', 'alcohol', 'quality'],\n",
      "      dtype='object')\n"
     ]
    }
   ],
   "source": [
    "import pandas as pd\n",
    "\n",
    "#import the dataset\n",
    "WineQuality_Red = pd.read_csv('https://archive.ics.uci.edu/ml/machine-learning-databases/wine-quality/winequality-red.csv', sep=';')\n",
    "WineQuality_Red.to_csv('WineQuality_Red.csv')\n",
    "print(WineQuality_Red.columns)\n",
    "                              "
   ]
  },
  {
   "cell_type": "markdown",
   "id": "2326d73e-de7b-470a-85dd-f9101b5e2384",
   "metadata": {},
   "source": [
    "### Select Data Set Metrics and Classifier"
   ]
  },
  {
   "cell_type": "code",
   "execution_count": 12,
   "id": "34f9cc7b-13a2-44dc-84c4-8db512ebd71b",
   "metadata": {},
   "outputs": [],
   "source": [
    "#Create variables for metrics and classifier so we can use this on different data sets\n",
    "my_metrics = ['fixed acidity', 'volatile acidity', 'citric acid', 'residual sugar',\n",
    "       'chlorides', 'free sulfur dioxide', 'total sulfur dioxide', 'density',\n",
    "       'pH', 'sulphates', 'alcohol']\n",
    "my_classifier = 'quality'"
   ]
  },
  {
   "cell_type": "markdown",
   "id": "284a2be6-22f5-4e18-8813-05d1199b46fc",
   "metadata": {},
   "source": [
    "## Split the data into training and test portions"
   ]
  },
  {
   "cell_type": "code",
   "execution_count": 13,
   "id": "9f8fd2df-12df-45d4-8ab3-0de0a0e09580",
   "metadata": {},
   "outputs": [],
   "source": [
    "from sklearn.model_selection import train_test_split\n",
    "\n",
    "\n",
    "X = WineQuality_Red[my_metrics]\n",
    "y = WineQuality_Red[my_classifier]\n",
    "\n",
    "X_train, X_test, y_train, y_test = train_test_split(X, y, test_size = 0.25) #training set size = 1-test_size"
   ]
  },
  {
   "cell_type": "code",
   "execution_count": 14,
   "id": "3eb0f427-e6ee-4dc3-bdaf-ef12839395d3",
   "metadata": {},
   "outputs": [
    {
     "data": {
      "text/html": [
       "<div>\n",
       "<style scoped>\n",
       "    .dataframe tbody tr th:only-of-type {\n",
       "        vertical-align: middle;\n",
       "    }\n",
       "\n",
       "    .dataframe tbody tr th {\n",
       "        vertical-align: top;\n",
       "    }\n",
       "\n",
       "    .dataframe thead th {\n",
       "        text-align: right;\n",
       "    }\n",
       "</style>\n",
       "<table border=\"1\" class=\"dataframe\">\n",
       "  <thead>\n",
       "    <tr style=\"text-align: right;\">\n",
       "      <th></th>\n",
       "      <th>fixed acidity</th>\n",
       "      <th>volatile acidity</th>\n",
       "      <th>citric acid</th>\n",
       "      <th>residual sugar</th>\n",
       "      <th>chlorides</th>\n",
       "      <th>free sulfur dioxide</th>\n",
       "      <th>total sulfur dioxide</th>\n",
       "      <th>density</th>\n",
       "      <th>pH</th>\n",
       "      <th>sulphates</th>\n",
       "      <th>alcohol</th>\n",
       "    </tr>\n",
       "  </thead>\n",
       "  <tbody>\n",
       "    <tr>\n",
       "      <th>776</th>\n",
       "      <td>6.9</td>\n",
       "      <td>0.765</td>\n",
       "      <td>0.18</td>\n",
       "      <td>2.4</td>\n",
       "      <td>0.243</td>\n",
       "      <td>5.5</td>\n",
       "      <td>48.0</td>\n",
       "      <td>0.99612</td>\n",
       "      <td>3.40</td>\n",
       "      <td>0.60</td>\n",
       "      <td>10.3</td>\n",
       "    </tr>\n",
       "    <tr>\n",
       "      <th>1244</th>\n",
       "      <td>5.9</td>\n",
       "      <td>0.290</td>\n",
       "      <td>0.25</td>\n",
       "      <td>13.4</td>\n",
       "      <td>0.067</td>\n",
       "      <td>72.0</td>\n",
       "      <td>160.0</td>\n",
       "      <td>0.99721</td>\n",
       "      <td>3.33</td>\n",
       "      <td>0.54</td>\n",
       "      <td>10.3</td>\n",
       "    </tr>\n",
       "    <tr>\n",
       "      <th>552</th>\n",
       "      <td>9.5</td>\n",
       "      <td>0.460</td>\n",
       "      <td>0.24</td>\n",
       "      <td>2.7</td>\n",
       "      <td>0.092</td>\n",
       "      <td>14.0</td>\n",
       "      <td>44.0</td>\n",
       "      <td>0.99800</td>\n",
       "      <td>3.12</td>\n",
       "      <td>0.74</td>\n",
       "      <td>10.0</td>\n",
       "    </tr>\n",
       "    <tr>\n",
       "      <th>598</th>\n",
       "      <td>8.5</td>\n",
       "      <td>0.585</td>\n",
       "      <td>0.18</td>\n",
       "      <td>2.1</td>\n",
       "      <td>0.078</td>\n",
       "      <td>5.0</td>\n",
       "      <td>30.0</td>\n",
       "      <td>0.99670</td>\n",
       "      <td>3.20</td>\n",
       "      <td>0.48</td>\n",
       "      <td>9.8</td>\n",
       "    </tr>\n",
       "    <tr>\n",
       "      <th>1177</th>\n",
       "      <td>7.1</td>\n",
       "      <td>0.660</td>\n",
       "      <td>0.00</td>\n",
       "      <td>2.4</td>\n",
       "      <td>0.052</td>\n",
       "      <td>6.0</td>\n",
       "      <td>11.0</td>\n",
       "      <td>0.99318</td>\n",
       "      <td>3.35</td>\n",
       "      <td>0.66</td>\n",
       "      <td>12.7</td>\n",
       "    </tr>\n",
       "  </tbody>\n",
       "</table>\n",
       "</div>"
      ],
      "text/plain": [
       "      fixed acidity  volatile acidity  citric acid  residual sugar  chlorides  \\\n",
       "776             6.9             0.765         0.18             2.4      0.243   \n",
       "1244            5.9             0.290         0.25            13.4      0.067   \n",
       "552             9.5             0.460         0.24             2.7      0.092   \n",
       "598             8.5             0.585         0.18             2.1      0.078   \n",
       "1177            7.1             0.660         0.00             2.4      0.052   \n",
       "\n",
       "      free sulfur dioxide  total sulfur dioxide  density    pH  sulphates  \\\n",
       "776                   5.5                  48.0  0.99612  3.40       0.60   \n",
       "1244                 72.0                 160.0  0.99721  3.33       0.54   \n",
       "552                  14.0                  44.0  0.99800  3.12       0.74   \n",
       "598                   5.0                  30.0  0.99670  3.20       0.48   \n",
       "1177                  6.0                  11.0  0.99318  3.35       0.66   \n",
       "\n",
       "      alcohol  \n",
       "776      10.3  \n",
       "1244     10.3  \n",
       "552      10.0  \n",
       "598       9.8  \n",
       "1177     12.7  "
      ]
     },
     "execution_count": 14,
     "metadata": {},
     "output_type": "execute_result"
    }
   ],
   "source": [
    "#show metrics\n",
    "\n",
    "X_train.head() #first 5 rows"
   ]
  },
  {
   "cell_type": "code",
   "execution_count": 15,
   "id": "e8602297-9759-4a6f-85f8-d537c24fc528",
   "metadata": {},
   "outputs": [
    {
     "data": {
      "text/plain": [
       "776     6\n",
       "1244    6\n",
       "552     6\n",
       "598     6\n",
       "1177    7\n",
       "Name: quality, dtype: int64"
      ]
     },
     "execution_count": 15,
     "metadata": {},
     "output_type": "execute_result"
    }
   ],
   "source": [
    "#show quality scores\n",
    "\n",
    "y_train.head() #prints out first 5 rows"
   ]
  },
  {
   "cell_type": "markdown",
   "id": "9cfdfbf4-e603-4013-85fd-912683f892ef",
   "metadata": {},
   "source": [
    "## Training the Model"
   ]
  },
  {
   "cell_type": "code",
   "execution_count": 16,
   "id": "27d42541-d04f-4b48-8338-4c720ae08b3e",
   "metadata": {},
   "outputs": [],
   "source": [
    "#Import Random Forest Model\n",
    "from sklearn.ensemble import RandomForestClassifier\n",
    "\n",
    "#Create a Gaussian Classifier ?\n",
    "clf=RandomForestClassifier(n_estimators=1000)\n",
    "\n",
    "#Train the model using the training sets\n",
    "clf.fit(X_train, y_train)\n",
    "\n",
    "y_pred=clf.predict(X_test)"
   ]
  },
  {
   "cell_type": "markdown",
   "id": "0bf497f5-2672-4675-ba49-e4af16460b54",
   "metadata": {},
   "source": [
    "## Evaluate the Model"
   ]
  },
  {
   "cell_type": "code",
   "execution_count": 17,
   "id": "b92b4a3c-a42c-4073-9d2f-c3de32119200",
   "metadata": {},
   "outputs": [
    {
     "name": "stdout",
     "output_type": "stream",
     "text": [
      "Accuracy: 0.695\n"
     ]
    }
   ],
   "source": [
    "#Import Scikit-Learn metrics module for accuracy calculation\n",
    "from sklearn import metrics\n",
    "\n",
    "#Model Accuracy -- how often is the classifier correct?\n",
    "print(\"Accuracy:\",metrics.accuracy_score(y_test, y_pred))"
   ]
  },
  {
   "cell_type": "markdown",
   "id": "efd78c1b-cc8b-4a17-bb10-7d31c0d03b4b",
   "metadata": {},
   "source": [
    "## What Drives the Model's Decision Making Abilities?"
   ]
  },
  {
   "cell_type": "code",
   "execution_count": 18,
   "id": "d885c568-b18e-4629-afeb-ec866926917b",
   "metadata": {},
   "outputs": [
    {
     "data": {
      "text/plain": [
       "alcohol                 0.145886\n",
       "sulphates               0.111403\n",
       "volatile acidity        0.107234\n",
       "total sulfur dioxide    0.105525\n",
       "density                 0.088132\n",
       "chlorides               0.079917\n",
       "pH                      0.077130\n",
       "citric acid             0.074473\n",
       "fixed acidity           0.073915\n",
       "residual sugar          0.070868\n",
       "free sulfur dioxide     0.065516\n",
       "dtype: float64"
      ]
     },
     "execution_count": 18,
     "metadata": {},
     "output_type": "execute_result"
    }
   ],
   "source": [
    "import pandas as pd\n",
    "feature_imp = pd.Series(clf.feature_importances_, index=my_metrics).sort_values(ascending=False)\n",
    "\n",
    "feature_imp"
   ]
  },
  {
   "cell_type": "code",
   "execution_count": null,
   "id": "70fd7e4c-c120-43d8-bf84-8f44b277f6f6",
   "metadata": {},
   "outputs": [],
   "source": []
  }
 ],
 "metadata": {
  "kernelspec": {
   "display_name": "Python 3 (ipykernel)",
   "language": "python",
   "name": "python3"
  },
  "language_info": {
   "codemirror_mode": {
    "name": "ipython",
    "version": 3
   },
   "file_extension": ".py",
   "mimetype": "text/x-python",
   "name": "python",
   "nbconvert_exporter": "python",
   "pygments_lexer": "ipython3",
   "version": "3.8.10"
  }
 },
 "nbformat": 4,
 "nbformat_minor": 5
}
