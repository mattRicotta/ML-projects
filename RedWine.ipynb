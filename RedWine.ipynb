{
 "cells": [
  {
   "cell_type": "markdown",
   "id": "e16a6129-fb71-4638-82c9-7ab33a10d0dd",
   "metadata": {
    "tags": []
   },
   "source": [
    "---\n",
    "## Random Forest: Red Wine Quality\n",
    "\n",
    "Data set: http://archive.ics.uce.edu/ml/datasets/Wine+Quality\n",
    "\n"
   ]
  },
  {
   "cell_type": "code",
   "execution_count": 1,
   "id": "cdb5a3c8-3fc6-4330-aa46-7d08c3d9dd77",
   "metadata": {},
   "outputs": [
    {
     "name": "stdout",
     "output_type": "stream",
     "text": [
      "Index(['fixed acidity', 'volatile acidity', 'citric acid', 'residual sugar',\n",
      "       'chlorides', 'free sulfur dioxide', 'total sulfur dioxide', 'density',\n",
      "       'pH', 'sulphates', 'alcohol', 'quality'],\n",
      "      dtype='object')\n"
     ]
    }
   ],
   "source": [
    "import pandas as pd\n",
    "\n",
    "#import the dataset\n",
    "WineQuality_Red = pd.read_csv('https://archive.ics.uci.edu/ml/machine-learning-databases/wine-quality/winequality-red.csv', sep=';')\n",
    "WineQuality_Red.to_csv('WineQuality_Red.csv')\n",
    "print(WineQuality_Red.columns)\n",
    "                              "
   ]
  },
  {
   "cell_type": "markdown",
   "id": "2326d73e-de7b-470a-85dd-f9101b5e2384",
   "metadata": {},
   "source": [
    "### Select Data Set Metrics and Classifier"
   ]
  },
  {
   "cell_type": "code",
   "execution_count": 2,
   "id": "34f9cc7b-13a2-44dc-84c4-8db512ebd71b",
   "metadata": {},
   "outputs": [],
   "source": [
    "#Create variables for metrics and classifier so we can use this on different data sets\n",
    "my_metrics = ['fixed acidity', 'volatile acidity', 'citric acid', 'residual sugar',\n",
    "       'chlorides', 'free sulfur dioxide', 'total sulfur dioxide', 'density',\n",
    "       'pH', 'sulphates', 'alcohol']\n",
    "my_classifier = 'quality'"
   ]
  },
  {
   "cell_type": "markdown",
   "id": "284a2be6-22f5-4e18-8813-05d1199b46fc",
   "metadata": {},
   "source": [
    "## Split the data into training and test portions"
   ]
  },
  {
   "cell_type": "code",
   "execution_count": 3,
   "id": "9f8fd2df-12df-45d4-8ab3-0de0a0e09580",
   "metadata": {},
   "outputs": [],
   "source": [
    "from sklearn.model_selection import train_test_split\n",
    "\n",
    "\n",
    "X = WineQuality_Red[my_metrics]\n",
    "y = WineQuality_Red[my_classifier]\n",
    "\n",
    "X_train, X_test, y_train, y_test = train_test_split(X, y, test_size = 0.5) #training set size = 1-test_size"
   ]
  },
  {
   "cell_type": "code",
   "execution_count": 4,
   "id": "3eb0f427-e6ee-4dc3-bdaf-ef12839395d3",
   "metadata": {},
   "outputs": [
    {
     "data": {
      "text/html": [
       "<div>\n",
       "<style scoped>\n",
       "    .dataframe tbody tr th:only-of-type {\n",
       "        vertical-align: middle;\n",
       "    }\n",
       "\n",
       "    .dataframe tbody tr th {\n",
       "        vertical-align: top;\n",
       "    }\n",
       "\n",
       "    .dataframe thead th {\n",
       "        text-align: right;\n",
       "    }\n",
       "</style>\n",
       "<table border=\"1\" class=\"dataframe\">\n",
       "  <thead>\n",
       "    <tr style=\"text-align: right;\">\n",
       "      <th></th>\n",
       "      <th>fixed acidity</th>\n",
       "      <th>volatile acidity</th>\n",
       "      <th>citric acid</th>\n",
       "      <th>residual sugar</th>\n",
       "      <th>chlorides</th>\n",
       "      <th>free sulfur dioxide</th>\n",
       "      <th>total sulfur dioxide</th>\n",
       "      <th>density</th>\n",
       "      <th>pH</th>\n",
       "      <th>sulphates</th>\n",
       "      <th>alcohol</th>\n",
       "    </tr>\n",
       "  </thead>\n",
       "  <tbody>\n",
       "    <tr>\n",
       "      <th>91</th>\n",
       "      <td>8.6</td>\n",
       "      <td>0.49</td>\n",
       "      <td>0.28</td>\n",
       "      <td>1.9</td>\n",
       "      <td>0.110</td>\n",
       "      <td>20.0</td>\n",
       "      <td>136.0</td>\n",
       "      <td>0.99720</td>\n",
       "      <td>2.93</td>\n",
       "      <td>1.95</td>\n",
       "      <td>9.9</td>\n",
       "    </tr>\n",
       "    <tr>\n",
       "      <th>785</th>\n",
       "      <td>9.9</td>\n",
       "      <td>0.35</td>\n",
       "      <td>0.41</td>\n",
       "      <td>2.3</td>\n",
       "      <td>0.083</td>\n",
       "      <td>11.0</td>\n",
       "      <td>61.0</td>\n",
       "      <td>0.99820</td>\n",
       "      <td>3.21</td>\n",
       "      <td>0.50</td>\n",
       "      <td>9.5</td>\n",
       "    </tr>\n",
       "    <tr>\n",
       "      <th>592</th>\n",
       "      <td>9.0</td>\n",
       "      <td>0.45</td>\n",
       "      <td>0.49</td>\n",
       "      <td>2.6</td>\n",
       "      <td>0.084</td>\n",
       "      <td>21.0</td>\n",
       "      <td>75.0</td>\n",
       "      <td>0.99870</td>\n",
       "      <td>3.35</td>\n",
       "      <td>0.57</td>\n",
       "      <td>9.7</td>\n",
       "    </tr>\n",
       "    <tr>\n",
       "      <th>978</th>\n",
       "      <td>7.0</td>\n",
       "      <td>0.40</td>\n",
       "      <td>0.32</td>\n",
       "      <td>3.6</td>\n",
       "      <td>0.061</td>\n",
       "      <td>9.0</td>\n",
       "      <td>29.0</td>\n",
       "      <td>0.99416</td>\n",
       "      <td>3.28</td>\n",
       "      <td>0.49</td>\n",
       "      <td>11.3</td>\n",
       "    </tr>\n",
       "    <tr>\n",
       "      <th>118</th>\n",
       "      <td>8.8</td>\n",
       "      <td>0.55</td>\n",
       "      <td>0.04</td>\n",
       "      <td>2.2</td>\n",
       "      <td>0.119</td>\n",
       "      <td>14.0</td>\n",
       "      <td>56.0</td>\n",
       "      <td>0.99620</td>\n",
       "      <td>3.21</td>\n",
       "      <td>0.60</td>\n",
       "      <td>10.9</td>\n",
       "    </tr>\n",
       "  </tbody>\n",
       "</table>\n",
       "</div>"
      ],
      "text/plain": [
       "     fixed acidity  volatile acidity  citric acid  residual sugar  chlorides  \\\n",
       "91             8.6              0.49         0.28             1.9      0.110   \n",
       "785            9.9              0.35         0.41             2.3      0.083   \n",
       "592            9.0              0.45         0.49             2.6      0.084   \n",
       "978            7.0              0.40         0.32             3.6      0.061   \n",
       "118            8.8              0.55         0.04             2.2      0.119   \n",
       "\n",
       "     free sulfur dioxide  total sulfur dioxide  density    pH  sulphates  \\\n",
       "91                  20.0                 136.0  0.99720  2.93       1.95   \n",
       "785                 11.0                  61.0  0.99820  3.21       0.50   \n",
       "592                 21.0                  75.0  0.99870  3.35       0.57   \n",
       "978                  9.0                  29.0  0.99416  3.28       0.49   \n",
       "118                 14.0                  56.0  0.99620  3.21       0.60   \n",
       "\n",
       "     alcohol  \n",
       "91       9.9  \n",
       "785      9.5  \n",
       "592      9.7  \n",
       "978     11.3  \n",
       "118     10.9  "
      ]
     },
     "execution_count": 4,
     "metadata": {},
     "output_type": "execute_result"
    }
   ],
   "source": [
    "#show metrics\n",
    "\n",
    "X_train.head() #first 5 rows"
   ]
  },
  {
   "cell_type": "code",
   "execution_count": 5,
   "id": "e8602297-9759-4a6f-85f8-d537c24fc528",
   "metadata": {},
   "outputs": [
    {
     "data": {
      "text/plain": [
       "91     6\n",
       "785    5\n",
       "592    5\n",
       "978    7\n",
       "118    6\n",
       "Name: quality, dtype: int64"
      ]
     },
     "execution_count": 5,
     "metadata": {},
     "output_type": "execute_result"
    }
   ],
   "source": [
    "#show quality scores\n",
    "\n",
    "y_train.head() #prints out first 5 rows"
   ]
  },
  {
   "cell_type": "markdown",
   "id": "9cfdfbf4-e603-4013-85fd-912683f892ef",
   "metadata": {},
   "source": [
    "## Training the Model"
   ]
  },
  {
   "cell_type": "code",
   "execution_count": 6,
   "id": "27d42541-d04f-4b48-8338-4c720ae08b3e",
   "metadata": {},
   "outputs": [],
   "source": [
    "#Import Random Forest Model\n",
    "from sklearn.ensemble import RandomForestClassifier\n",
    "\n",
    "#Create a Gaussian Classifier ?\n",
    "clf=RandomForestClassifier(n_estimators=1000)\n",
    "\n",
    "#Train the model using the training sets\n",
    "clf.fit(X_train, y_train)\n",
    "\n",
    "y_pred=clf.predict(X_test)"
   ]
  },
  {
   "cell_type": "markdown",
   "id": "0bf497f5-2672-4675-ba49-e4af16460b54",
   "metadata": {},
   "source": [
    "## Evaluate the Model"
   ]
  },
  {
   "cell_type": "code",
   "execution_count": 7,
   "id": "b92b4a3c-a42c-4073-9d2f-c3de32119200",
   "metadata": {},
   "outputs": [
    {
     "name": "stdout",
     "output_type": "stream",
     "text": [
      "Accuracy: 67.38%\n"
     ]
    }
   ],
   "source": [
    "#Import Scikit-Learn metrics module for accuracy calculation\n",
    "from sklearn import metrics\n",
    "\n",
    "#Model Accuracy -- how often is the classifier correct?\n",
    "print(\"Accuracy:\",str(round(metrics.accuracy_score(y_test, y_pred)*100,2))+'%')"
   ]
  },
  {
   "cell_type": "markdown",
   "id": "876df162-47ed-47b0-b992-f6fbfc9991bf",
   "metadata": {},
   "source": [
    "### Test the Model With An Example"
   ]
  },
  {
   "cell_type": "code",
   "execution_count": 31,
   "id": "8b5725cd-62b3-42be-978d-2d42bfeead2e",
   "metadata": {},
   "outputs": [
    {
     "name": "stdout",
     "output_type": "stream",
     "text": [
      "Expected: 5\n",
      "Predicted: 6\n"
     ]
    }
   ],
   "source": [
    "#let's create a sample wine and analyze it's values\n",
    "#The quality score for this wine was a 5/10\n",
    "sample_wine = {'fixed acidity':6.2, \n",
    "               'volatile acidity':0.64, \n",
    "               'citric acid':0.09, \n",
    "               'residual sugar':2.5,\n",
    "               'chlorides':0.081, \n",
    "               'free sulfur dioxide':15.0, \n",
    "               'total sulfur dioxide':26.0, \n",
    "               'density':0.99538,\n",
    "               'pH':3.57, \n",
    "               'sulphates':0.63, \n",
    "               'alcohol':12.0}\n",
    "\n",
    "#Run the values through our model\n",
    "sample_wine_df = pd.DataFrame.from_dict([sample_wine])\n",
    "predicted_score = clf.predict(sample_wine_df)[0]\n",
    "\n",
    "#print the predicted score\n",
    "print('Expected:',5)\n",
    "print('Predicted:',predicted_score)\n"
   ]
  },
  {
   "cell_type": "markdown",
   "id": "efd78c1b-cc8b-4a17-bb10-7d31c0d03b4b",
   "metadata": {},
   "source": [
    "### What Drives the Model's Decision Making Abilities?"
   ]
  },
  {
   "cell_type": "code",
   "execution_count": 9,
   "id": "d885c568-b18e-4629-afeb-ec866926917b",
   "metadata": {},
   "outputs": [],
   "source": [
    "#Feature importance with Pandas\n",
    "#Order by importance\n",
    "feature_imp = pd.Series(clf.feature_importances_, index=my_metrics).sort_values(ascending=True)"
   ]
  },
  {
   "cell_type": "code",
   "execution_count": 10,
   "id": "70fd7e4c-c120-43d8-bf84-8f44b277f6f6",
   "metadata": {},
   "outputs": [
    {
     "data": {
      "image/png": "[encoded data removed]",
      "text/plain": [
       "<Figure size 432x288 with 1 Axes>"
      ]
     },
     "metadata": {},
     "output_type": "display_data"
    }
   ],
   "source": [
    "#Plot the data\n",
    "from matplotlib import pyplot as plt, ticker as mtick\n",
    "\n",
    "#format the graph\n",
    "plt.style.use('dark_background')\n",
    "fig, ax = plt.subplots()\n",
    "fig.patch.set_facecolor('#0f0f0f')\n",
    "ax.patch.set_facecolor('#0f0f0f')\n",
    "ax.xaxis.set_major_formatter(mtick.PercentFormatter(1))\n",
    "\n",
    "#plot the data\n",
    "ax.barh(feature_imp.index, feature_imp.values, color='#ffb81c')\n",
    "plt.show()\n"
   ]
  },
  {
   "cell_type": "code",
   "execution_count": null,
   "id": "f2a96520-8474-4f16-be50-e4cb72860c1c",
   "metadata": {},
   "outputs": [],
   "source": []
  }
 ],
 "metadata": {
  "kernelspec": {
   "display_name": "Python 3 (ipykernel)",
   "language": "python",
   "name": "python3"
  },
  "language_info": {
   "codemirror_mode": {
    "name": "ipython",
    "version": 3
   },
   "file_extension": ".py",
   "mimetype": "text/x-python",
   "name": "python",
   "nbconvert_exporter": "python",
   "pygments_lexer": "ipython3",
   "version": "3.8.10"
  }
 },
 "nbformat": 4,
 "nbformat_minor": 5
}
