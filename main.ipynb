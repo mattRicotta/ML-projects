{
 "cells": [
  {
   "cell_type": "markdown",
   "id": "3fd0caa7-1604-4fba-90f5-9697e8dcd9f7",
   "metadata": {
    "tags": []
   },
   "source": [
    "# Machine Learning Playground\n",
    "\n",
    "This is my first forray into machine learning with Python. I also plan to get practice using Jupyter Notebooks to work through my code.\n",
    "\n",
    "### Packages In Use:\n",
    "* Jupyter Labs (obvs!)\n",
    "* Matplotlib (for graphing)\n",
    "* Numpy (for datasets; included with Jupyter)\n",
    "* Scikit-Learn (ML library)\n",
    "\n",
    "To create the environment, install the requirements.txt `pip install -r requirements.txt`"
   ]
  },
  {
   "cell_type": "markdown",
   "id": "00e49bab-8437-4dec-9380-d3d65c54bfcf",
   "metadata": {
    "tags": []
   },
   "source": [
    "---\n",
    "## Intro To Python and Jupyter Notebooks\n",
    "\n",
    "Jupyter is a GUI that can be used for working with Python. It's incredibly useful for building, sharing, debugging, and managing code. Blocks can be created that are Markdown or Code, and code can be run as a single block at a time so you can step slowly through your program as you're building it.\n",
    "\n",
    "If you run the two commands below, the debugger will print the output below the block."
   ]
  },
  {
   "cell_type": "code",
   "execution_count": 4,
   "id": "aaa438de-f52c-44d0-b10d-115074b829ce",
   "metadata": {},
   "outputs": [
    {
     "name": "stdout",
     "output_type": "stream",
     "text": [
      "Hello World\n"
     ]
    }
   ],
   "source": [
    "print('Hello World')"
   ]
  },
  {
   "cell_type": "code",
   "execution_count": 5,
   "id": "2c0510dc-c001-4551-bb93-87d0610ac9fb",
   "metadata": {},
   "outputs": [
    {
     "name": "stdout",
     "output_type": "stream",
     "text": [
      "4\n"
     ]
    }
   ],
   "source": [
    "print(2 + 2)"
   ]
  },
  {
   "cell_type": "markdown",
   "id": "c8f42202-333f-4a6f-b2c5-93cab3bc5bba",
   "metadata": {
    "tags": []
   },
   "source": [
    "#### Syntax Sugar\n",
    "\n",
    "Python is known for syntax sugar - efficient, human-readable ways to write complex commands. In the example below we can run a loop to create a list of integers from 1-9 in a single line! Always take advantage of this!"
   ]
  },
  {
   "cell_type": "code",
   "execution_count": 7,
   "id": "e9b7b14e-a0ac-4e25-aa93-e0b665c62852",
   "metadata": {},
   "outputs": [
    {
     "name": "stdout",
     "output_type": "stream",
     "text": [
      "[1, 2, 3, 4, 5, 6, 7, 8, 9]\n"
     ]
    }
   ],
   "source": [
    "# instead of creating a list variable and running a loop, we can do it all in one line:\n",
    "my_list = [i + 1 for i in range(9)]\n",
    "\n",
    "print(my_list)"
   ]
  },
  {
   "cell_type": "markdown",
   "id": "e16a6129-fb71-4638-82c9-7ab33a10d0dd",
   "metadata": {
    "tags": []
   },
   "source": [
    "---\n",
    "## Random Forest\n",
    "\n",
    "Data set: http://archive.ics.uce.edu/ml/datasets/Wine+Quality\n",
    "\n"
   ]
  },
  {
   "cell_type": "code",
   "execution_count": null,
   "id": "cdb5a3c8-3fc6-4330-aa46-7d08c3d9dd77",
   "metadata": {},
   "outputs": [],
   "source": [
    "import pandas as pd\n",
    "\n",
    "#import the dataset\n",
    "WineQuality_Red = pd.read_csv('https://archive.ics.uci.edu/ml/machine-learning-databases/wine-quality/winequality-red.csv')\n",
    "WineQuality_Red.columns = ['FixedAcidity','VolatileAcidity','CitricAcid','ResidualSugar','Chlorides','FreeSO2','TotalSO2','Density','pH','Sulfates','Alcohol','Quality']\n",
    "WineQuality_Red.to_csv('WineQuality_Red.csv')\n",
    "                              "
   ]
  }
 ],
 "metadata": {
  "kernelspec": {
   "display_name": "Python 3 (ipykernel)",
   "language": "python",
   "name": "python3"
  },
  "language_info": {
   "codemirror_mode": {
    "name": "ipython",
    "version": 3
   },
   "file_extension": ".py",
   "mimetype": "text/x-python",
   "name": "python",
   "nbconvert_exporter": "python",
   "pygments_lexer": "ipython3",
   "version": "3.8.10"
  }
 },
 "nbformat": 4,
 "nbformat_minor": 5
}
