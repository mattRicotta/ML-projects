{
 "cells": [
  {
   "cell_type": "markdown",
   "id": "e16a6129-fb71-4638-82c9-7ab33a10d0dd",
   "metadata": {
    "tags": []
   },
   "source": [
    "---\n",
    "## Random Forest\n",
    "\n",
    "Data set: http://archive.ics.uce.edu/ml/datasets/Wine+Quality\n",
    "\n"
   ]
  },
  {
   "cell_type": "code",
   "execution_count": 65,
   "id": "cdb5a3c8-3fc6-4330-aa46-7d08c3d9dd77",
   "metadata": {},
   "outputs": [
    {
     "name": "stdout",
     "output_type": "stream",
     "text": [
      "Index(['fixed acidity', 'volatile acidity', 'citric acid', 'residual sugar',\n",
      "       'chlorides', 'free sulfur dioxide', 'total sulfur dioxide', 'density',\n",
      "       'pH', 'sulphates', 'alcohol', 'quality'],\n",
      "      dtype='object')\n"
     ]
    }
   ],
   "source": [
    "import pandas as pd\n",
    "\n",
    "#import the dataset\n",
    "DataSet = pd.read_csv('https://archive.ics.uci.edu/ml/machine-learning-databases/wine-quality/winequality-red.csv', sep=';')\n",
    "DataSet.to_csv('WineQuality_Red.csv')\n",
    "print(DataSet.columns)\n",
    "                              "
   ]
  },
  {
   "cell_type": "markdown",
   "id": "2326d73e-de7b-470a-85dd-f9101b5e2384",
   "metadata": {},
   "source": [
    "### Select Data Set Metrics and Classifier\n",
    "Create variables for metrics and classifier so we can use this on different data sets"
   ]
  },
  {
   "cell_type": "code",
   "execution_count": 66,
   "id": "34f9cc7b-13a2-44dc-84c4-8db512ebd71b",
   "metadata": {},
   "outputs": [],
   "source": [
    "my_metrics = ['alcohol', 'pH', 'density', 'residual sugar', 'sulphates']\n",
    "my_classifier = 'quality'"
   ]
  },
  {
   "cell_type": "markdown",
   "id": "284a2be6-22f5-4e18-8813-05d1199b46fc",
   "metadata": {},
   "source": [
    "## Split the data into training and test portions"
   ]
  },
  {
   "cell_type": "code",
   "execution_count": 67,
   "id": "9f8fd2df-12df-45d4-8ab3-0de0a0e09580",
   "metadata": {},
   "outputs": [],
   "source": [
    "from sklearn.model_selection import train_test_split\n",
    "\n",
    "\n",
    "X = DataSet[my_metrics]\n",
    "y = DataSet[my_classifier]\n",
    "\n",
    "X_train, X_test, y_train, y_test = train_test_split(X, y, test_size = 0.4) #training set size = 1-test_size"
   ]
  },
  {
   "cell_type": "code",
   "execution_count": 68,
   "id": "3eb0f427-e6ee-4dc3-bdaf-ef12839395d3",
   "metadata": {},
   "outputs": [
    {
     "data": {
      "text/html": [
       "<div>\n",
       "<style scoped>\n",
       "    .dataframe tbody tr th:only-of-type {\n",
       "        vertical-align: middle;\n",
       "    }\n",
       "\n",
       "    .dataframe tbody tr th {\n",
       "        vertical-align: top;\n",
       "    }\n",
       "\n",
       "    .dataframe thead th {\n",
       "        text-align: right;\n",
       "    }\n",
       "</style>\n",
       "<table border=\"1\" class=\"dataframe\">\n",
       "  <thead>\n",
       "    <tr style=\"text-align: right;\">\n",
       "      <th></th>\n",
       "      <th>alcohol</th>\n",
       "      <th>pH</th>\n",
       "      <th>density</th>\n",
       "      <th>residual sugar</th>\n",
       "      <th>sulphates</th>\n",
       "    </tr>\n",
       "  </thead>\n",
       "  <tbody>\n",
       "    <tr>\n",
       "      <th>1279</th>\n",
       "      <td>11.5</td>\n",
       "      <td>3.14</td>\n",
       "      <td>0.99480</td>\n",
       "      <td>1.7</td>\n",
       "      <td>0.57</td>\n",
       "    </tr>\n",
       "    <tr>\n",
       "      <th>1236</th>\n",
       "      <td>9.4</td>\n",
       "      <td>3.26</td>\n",
       "      <td>0.99659</td>\n",
       "      <td>1.7</td>\n",
       "      <td>0.64</td>\n",
       "    </tr>\n",
       "    <tr>\n",
       "      <th>1381</th>\n",
       "      <td>9.6</td>\n",
       "      <td>3.38</td>\n",
       "      <td>0.99534</td>\n",
       "      <td>1.8</td>\n",
       "      <td>0.45</td>\n",
       "    </tr>\n",
       "    <tr>\n",
       "      <th>1267</th>\n",
       "      <td>11.4</td>\n",
       "      <td>3.10</td>\n",
       "      <td>0.99600</td>\n",
       "      <td>2.3</td>\n",
       "      <td>0.87</td>\n",
       "    </tr>\n",
       "    <tr>\n",
       "      <th>805</th>\n",
       "      <td>12.8</td>\n",
       "      <td>3.33</td>\n",
       "      <td>0.99356</td>\n",
       "      <td>2.4</td>\n",
       "      <td>0.70</td>\n",
       "    </tr>\n",
       "  </tbody>\n",
       "</table>\n",
       "</div>"
      ],
      "text/plain": [
       "      alcohol    pH  density  residual sugar  sulphates\n",
       "1279     11.5  3.14  0.99480             1.7       0.57\n",
       "1236      9.4  3.26  0.99659             1.7       0.64\n",
       "1381      9.6  3.38  0.99534             1.8       0.45\n",
       "1267     11.4  3.10  0.99600             2.3       0.87\n",
       "805      12.8  3.33  0.99356             2.4       0.70"
      ]
     },
     "execution_count": 68,
     "metadata": {},
     "output_type": "execute_result"
    }
   ],
   "source": [
    "#show metrics\n",
    "\n",
    "X_train.head() #first 5 rows"
   ]
  },
  {
   "cell_type": "code",
   "execution_count": 69,
   "id": "e8602297-9759-4a6f-85f8-d537c24fc528",
   "metadata": {},
   "outputs": [
    {
     "data": {
      "text/plain": [
       "1279    7\n",
       "1236    6\n",
       "1381    5\n",
       "1267    6\n",
       "805     7\n",
       "Name: quality, dtype: int64"
      ]
     },
     "execution_count": 69,
     "metadata": {},
     "output_type": "execute_result"
    }
   ],
   "source": [
    "#show quality scores\n",
    "\n",
    "y_train.head() #prints out first 5 rows"
   ]
  },
  {
   "cell_type": "markdown",
   "id": "9cfdfbf4-e603-4013-85fd-912683f892ef",
   "metadata": {},
   "source": [
    "## Training the Model"
   ]
  },
  {
   "cell_type": "code",
   "execution_count": 70,
   "id": "27d42541-d04f-4b48-8338-4c720ae08b3e",
   "metadata": {},
   "outputs": [],
   "source": [
    "#Import Random Forest Model\n",
    "from sklearn.ensemble import RandomForestClassifier\n",
    "\n",
    "#Create a Gaussian Classifier ?\n",
    "clf=RandomForestClassifier(n_estimators=1000)\n",
    "\n",
    "#Train the model using the training sets\n",
    "clf.fit(X_train, y_train)\n",
    "\n",
    "y_pred=clf.predict(X_test)"
   ]
  },
  {
   "cell_type": "markdown",
   "id": "0bf497f5-2672-4675-ba49-e4af16460b54",
   "metadata": {},
   "source": [
    "## Evaluate the Model"
   ]
  },
  {
   "cell_type": "code",
   "execution_count": 71,
   "id": "b92b4a3c-a42c-4073-9d2f-c3de32119200",
   "metadata": {},
   "outputs": [
    {
     "name": "stdout",
     "output_type": "stream",
     "text": [
      "Accuracy: 0.64375\n"
     ]
    }
   ],
   "source": [
    "#Import Scikit-Learn metrics module for accuracy calculation\n",
    "from sklearn import metrics\n",
    "\n",
    "#Model Accuracy -- how often is the classifier correct?\n",
    "print(\"Accuracy:\",metrics.accuracy_score(y_test, y_pred))"
   ]
  },
  {
   "cell_type": "markdown",
   "id": "efd78c1b-cc8b-4a17-bb10-7d31c0d03b4b",
   "metadata": {},
   "source": [
    "## What Drives the Model's Decision Making Abilities?"
   ]
  },
  {
   "cell_type": "code",
   "execution_count": 72,
   "id": "d885c568-b18e-4629-afeb-ec866926917b",
   "metadata": {},
   "outputs": [
    {
     "data": {
      "text/plain": [
       "alcohol           0.250371\n",
       "sulphates         0.207962\n",
       "density           0.205696\n",
       "pH                0.185790\n",
       "residual sugar    0.150182\n",
       "dtype: float64"
      ]
     },
     "execution_count": 72,
     "metadata": {},
     "output_type": "execute_result"
    }
   ],
   "source": [
    "import pandas as pd\n",
    "feature_imp = pd.Series(clf.feature_importances_, index=my_metrics).sort_values(ascending=False)\n",
    "\n",
    "feature_imp"
   ]
  }
 ],
 "metadata": {
  "kernelspec": {
   "display_name": "Python 3 (ipykernel)",
   "language": "python",
   "name": "python3"
  },
  "language_info": {
   "codemirror_mode": {
    "name": "ipython",
    "version": 3
   },
   "file_extension": ".py",
   "mimetype": "text/x-python",
   "name": "python",
   "nbconvert_exporter": "python",
   "pygments_lexer": "ipython3",
   "version": "3.8.10"
  }
 },
 "nbformat": 4,
 "nbformat_minor": 5
}
