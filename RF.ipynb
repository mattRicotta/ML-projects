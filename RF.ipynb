{
 "cells": [
  {
   "cell_type": "markdown",
   "id": "e16a6129-fb71-4638-82c9-7ab33a10d0dd",
   "metadata": {
    "tags": []
   },
   "source": [
    "---\n",
    "## Random Forest\n",
    "\n",
    "Data set: http://archive.ics.uce.edu/ml/datasets/Wine+Quality\n",
    "\n"
   ]
  },
  {
   "cell_type": "code",
   "execution_count": 1,
   "id": "cdb5a3c8-3fc6-4330-aa46-7d08c3d9dd77",
   "metadata": {},
   "outputs": [
    {
     "name": "stdout",
     "output_type": "stream",
     "text": [
      "Index(['fixed acidity', 'volatile acidity', 'citric acid', 'residual sugar',\n",
      "       'chlorides', 'free sulfur dioxide', 'total sulfur dioxide', 'density',\n",
      "       'pH', 'sulphates', 'alcohol', 'quality'],\n",
      "      dtype='object')\n"
     ]
    }
   ],
   "source": [
    "import pandas as pd\n",
    "\n",
    "#import the dataset\n",
    "DataSet = pd.read_csv('https://archive.ics.uci.edu/ml/machine-learning-databases/wine-quality/winequality-red.csv', sep=';')\n",
    "DataSet.to_csv('DataSet.csv')\n",
    "print(DataSet.columns)\n",
    "                              "
   ]
  },
  {
   "cell_type": "markdown",
   "id": "2326d73e-de7b-470a-85dd-f9101b5e2384",
   "metadata": {},
   "source": [
    "### Select Data Set Metrics and Classifier\n",
    "Create variables for metrics and classifier so we can use this on different data sets"
   ]
  },
  {
   "cell_type": "code",
   "execution_count": 2,
   "id": "34f9cc7b-13a2-44dc-84c4-8db512ebd71b",
   "metadata": {},
   "outputs": [],
   "source": [
    "my_metrics = ['fixed acidity', 'volatile acidity', 'citric acid', 'residual sugar',\n",
    "       'chlorides', 'free sulfur dioxide', 'total sulfur dioxide', 'density',\n",
    "       'pH', 'sulphates', 'alcohol']\n",
    "my_classifier = 'quality'"
   ]
  },
  {
   "cell_type": "markdown",
   "id": "284a2be6-22f5-4e18-8813-05d1199b46fc",
   "metadata": {},
   "source": [
    "### Split the data into training and test portions"
   ]
  },
  {
   "cell_type": "code",
   "execution_count": 3,
   "id": "9f8fd2df-12df-45d4-8ab3-0de0a0e09580",
   "metadata": {},
   "outputs": [],
   "source": [
    "from sklearn.model_selection import train_test_split\n",
    "\n",
    "\n",
    "X = DataSet[my_metrics]\n",
    "y = DataSet[my_classifier]\n",
    "\n",
    "X_train, X_test, y_train, y_test = train_test_split(X, y, test_size = 0.4) #training set size = 1-test_size"
   ]
  },
  {
   "cell_type": "code",
   "execution_count": 4,
   "id": "3eb0f427-e6ee-4dc3-bdaf-ef12839395d3",
   "metadata": {},
   "outputs": [
    {
     "data": {
      "text/html": [
       "<div>\n",
       "<style scoped>\n",
       "    .dataframe tbody tr th:only-of-type {\n",
       "        vertical-align: middle;\n",
       "    }\n",
       "\n",
       "    .dataframe tbody tr th {\n",
       "        vertical-align: top;\n",
       "    }\n",
       "\n",
       "    .dataframe thead th {\n",
       "        text-align: right;\n",
       "    }\n",
       "</style>\n",
       "<table border=\"1\" class=\"dataframe\">\n",
       "  <thead>\n",
       "    <tr style=\"text-align: right;\">\n",
       "      <th></th>\n",
       "      <th>fixed acidity</th>\n",
       "      <th>volatile acidity</th>\n",
       "      <th>citric acid</th>\n",
       "      <th>residual sugar</th>\n",
       "      <th>chlorides</th>\n",
       "      <th>free sulfur dioxide</th>\n",
       "      <th>total sulfur dioxide</th>\n",
       "      <th>density</th>\n",
       "      <th>pH</th>\n",
       "      <th>sulphates</th>\n",
       "      <th>alcohol</th>\n",
       "    </tr>\n",
       "  </thead>\n",
       "  <tbody>\n",
       "    <tr>\n",
       "      <th>142</th>\n",
       "      <td>5.2</td>\n",
       "      <td>0.34</td>\n",
       "      <td>0.00</td>\n",
       "      <td>1.80</td>\n",
       "      <td>0.050</td>\n",
       "      <td>27.0</td>\n",
       "      <td>63.0</td>\n",
       "      <td>0.99160</td>\n",
       "      <td>3.68</td>\n",
       "      <td>0.79</td>\n",
       "      <td>14.0</td>\n",
       "    </tr>\n",
       "    <tr>\n",
       "      <th>157</th>\n",
       "      <td>7.1</td>\n",
       "      <td>0.43</td>\n",
       "      <td>0.42</td>\n",
       "      <td>5.50</td>\n",
       "      <td>0.071</td>\n",
       "      <td>28.0</td>\n",
       "      <td>128.0</td>\n",
       "      <td>0.99730</td>\n",
       "      <td>3.42</td>\n",
       "      <td>0.71</td>\n",
       "      <td>10.5</td>\n",
       "    </tr>\n",
       "    <tr>\n",
       "      <th>894</th>\n",
       "      <td>7.2</td>\n",
       "      <td>0.63</td>\n",
       "      <td>0.03</td>\n",
       "      <td>2.20</td>\n",
       "      <td>0.080</td>\n",
       "      <td>17.0</td>\n",
       "      <td>88.0</td>\n",
       "      <td>0.99745</td>\n",
       "      <td>3.53</td>\n",
       "      <td>0.58</td>\n",
       "      <td>9.8</td>\n",
       "    </tr>\n",
       "    <tr>\n",
       "      <th>1006</th>\n",
       "      <td>9.1</td>\n",
       "      <td>0.29</td>\n",
       "      <td>0.33</td>\n",
       "      <td>2.05</td>\n",
       "      <td>0.063</td>\n",
       "      <td>13.0</td>\n",
       "      <td>27.0</td>\n",
       "      <td>0.99516</td>\n",
       "      <td>3.26</td>\n",
       "      <td>0.84</td>\n",
       "      <td>11.7</td>\n",
       "    </tr>\n",
       "    <tr>\n",
       "      <th>943</th>\n",
       "      <td>9.8</td>\n",
       "      <td>0.50</td>\n",
       "      <td>0.34</td>\n",
       "      <td>2.30</td>\n",
       "      <td>0.094</td>\n",
       "      <td>10.0</td>\n",
       "      <td>45.0</td>\n",
       "      <td>0.99864</td>\n",
       "      <td>3.24</td>\n",
       "      <td>0.60</td>\n",
       "      <td>9.7</td>\n",
       "    </tr>\n",
       "  </tbody>\n",
       "</table>\n",
       "</div>"
      ],
      "text/plain": [
       "      fixed acidity  volatile acidity  citric acid  residual sugar  chlorides  \\\n",
       "142             5.2              0.34         0.00            1.80      0.050   \n",
       "157             7.1              0.43         0.42            5.50      0.071   \n",
       "894             7.2              0.63         0.03            2.20      0.080   \n",
       "1006            9.1              0.29         0.33            2.05      0.063   \n",
       "943             9.8              0.50         0.34            2.30      0.094   \n",
       "\n",
       "      free sulfur dioxide  total sulfur dioxide  density    pH  sulphates  \\\n",
       "142                  27.0                  63.0  0.99160  3.68       0.79   \n",
       "157                  28.0                 128.0  0.99730  3.42       0.71   \n",
       "894                  17.0                  88.0  0.99745  3.53       0.58   \n",
       "1006                 13.0                  27.0  0.99516  3.26       0.84   \n",
       "943                  10.0                  45.0  0.99864  3.24       0.60   \n",
       "\n",
       "      alcohol  \n",
       "142      14.0  \n",
       "157      10.5  \n",
       "894       9.8  \n",
       "1006     11.7  \n",
       "943       9.7  "
      ]
     },
     "execution_count": 4,
     "metadata": {},
     "output_type": "execute_result"
    }
   ],
   "source": [
    "#show metrics\n",
    "\n",
    "X_train.head() #first 5 rows"
   ]
  },
  {
   "cell_type": "code",
   "execution_count": 5,
   "id": "e8602297-9759-4a6f-85f8-d537c24fc528",
   "metadata": {},
   "outputs": [
    {
     "data": {
      "text/plain": [
       "142     6\n",
       "157     5\n",
       "894     6\n",
       "1006    7\n",
       "943     7\n",
       "Name: quality, dtype: int64"
      ]
     },
     "execution_count": 5,
     "metadata": {},
     "output_type": "execute_result"
    }
   ],
   "source": [
    "#show quality scores\n",
    "\n",
    "y_train.head() #prints out first 5 rows"
   ]
  },
  {
   "cell_type": "markdown",
   "id": "9cfdfbf4-e603-4013-85fd-912683f892ef",
   "metadata": {},
   "source": [
    "### Training the Model\n",
    "\n",
    "Set up a Random Forest model and use the training portion of our data to 'teach' the model."
   ]
  },
  {
   "cell_type": "code",
   "execution_count": 7,
   "id": "27d42541-d04f-4b48-8338-4c720ae08b3e",
   "metadata": {},
   "outputs": [
    {
     "data": {
      "text/plain": [
       "RandomForestClassifier(n_estimators=1000)"
      ]
     },
     "execution_count": 7,
     "metadata": {},
     "output_type": "execute_result"
    }
   ],
   "source": [
    "#Import Random Forest Model\n",
    "from sklearn.ensemble import RandomForestClassifier\n",
    "\n",
    "#Create a Gaussian Classifier ?\n",
    "clf=RandomForestClassifier(n_estimators=1000)\n",
    "\n",
    "#Train the model using the training sets\n",
    "clf.fit(X_train, y_train)"
   ]
  },
  {
   "cell_type": "markdown",
   "id": "0bf497f5-2672-4675-ba49-e4af16460b54",
   "metadata": {},
   "source": [
    "### Evaluate the Model\n",
    "\n",
    "The accuracy_score() function uses a confusion matrix to return"
   ]
  },
  {
   "cell_type": "code",
   "execution_count": 8,
   "id": "b92b4a3c-a42c-4073-9d2f-c3de32119200",
   "metadata": {},
   "outputs": [],
   "source": [
    "#Test the model on the test portion of our split data set\n",
    "y_pred=clf.predict(X_test)"
   ]
  },
  {
   "cell_type": "code",
   "execution_count": 9,
   "id": "45a42fd3-b1f4-4944-a28a-9a573a27865b",
   "metadata": {},
   "outputs": [
    {
     "name": "stdout",
     "output_type": "stream",
     "text": [
      "Accuracy: 70.94%\n"
     ]
    }
   ],
   "source": [
    "#Import Scikit-Learn metrics module for accuracy calculation\n",
    "from sklearn import metrics\n",
    "\n",
    "#Compare predictions to test data to determine the model's accuracy\n",
    "print(\"Accuracy:\",str(round(metrics.accuracy_score(y_test, y_pred)*100,2))+'%')"
   ]
  },
  {
   "cell_type": "markdown",
   "id": "efd78c1b-cc8b-4a17-bb10-7d31c0d03b4b",
   "metadata": {},
   "source": [
    "### What Drives the Model's Decision Making Abilities?\n",
    "\n",
    "What attributes have the most influence on the decision outcome?"
   ]
  },
  {
   "cell_type": "code",
   "execution_count": 69,
   "id": "d885c568-b18e-4629-afeb-ec866926917b",
   "metadata": {},
   "outputs": [
    {
     "data": {
      "image/png": "[encoded data removed]",
      "text/plain": [
       "<Figure size 432x288 with 1 Axes>"
      ]
     },
     "metadata": {
      "needs_background": "light"
     },
     "output_type": "display_data"
    }
   ],
   "source": [
    "import pandas as pd\n",
    "from matplotlib import pyplot\n",
    "import matplotlib.ticker as mtick\n",
    "\n",
    "feature_imp = pd.Series(clf.feature_importances_, index=my_metrics).sort_values(ascending=True)\n",
    "\n",
    "pyplot.barh(feature_imp.index, feature_imp.values*100)\n",
    "pyplot.xlabel('Importance (%)')\n",
    "pyplot.show()"
   ]
  },
  {
   "cell_type": "code",
   "execution_count": null,
   "id": "3afab783-8b56-4d7b-b87b-942d45b0f44a",
   "metadata": {},
   "outputs": [
    {
     "name": "stdout",
     "output_type": "stream",
     "text": [
      "Feature: 0, Score: 0.02499\n",
      "Feature: 1, Score: -1.08359\n",
      "Feature: 2, Score: -0.18256\n",
      "Feature: 3, Score: 0.01633\n",
      "Feature: 4, Score: -1.87423\n",
      "Feature: 5, Score: 0.00436\n",
      "Feature: 6, Score: -0.00326\n",
      "Feature: 7, Score: -17.88116\n",
      "Feature: 8, Score: -0.41365\n",
      "Feature: 9, Score: 0.91633\n",
      "Feature: 10, Score: 0.27620\n"
     ]
    },
    {
     "data": {
      "image/png": "[encoded data removed]",
      "text/plain": [
       "<Figure size 432x288 with 1 Axes>"
      ]
     },
     "metadata": {
      "needs_background": "light"
     },
     "output_type": "display_data"
    }
   ],
   "source": [
    "# linear regression feature importance\n",
    "from sklearn.datasets import make_regression\n",
    "from sklearn.linear_model import LinearRegression\n",
    "from matplotlib import pyplot\n",
    "# define dataset\n",
    "#X, y = make_regression(n_samples=1000, n_features=12, n_informative=4, random_state=1)\n",
    "# define the model\n",
    "model = LinearRegression()\n",
    "# fit the model\n",
    "model.fit(X, y)\n",
    "# get importance\n",
    "importance = model.coef_\n",
    "# summarize feature importance\n",
    "for i,v in enumerate(importance):\n",
    "\tprint('Feature: %0d, Score: %.5f' % (i,v))\n",
    "# plot feature importance\n",
    "pyplot.barh(my_metrics, importance)\n",
    "pyplot.show()"
   ]
  },
  {
   "cell_type": "code",
   "execution_count": null,
   "id": "852fc383-2a6a-4f89-9d0d-e92df92c6a45",
   "metadata": {},
   "outputs": [],
   "source": []
  }
 ],
 "metadata": {
  "kernelspec": {
   "display_name": "Python 3 (ipykernel)",
   "language": "python",
   "name": "python3"
  },
  "language_info": {
   "codemirror_mode": {
    "name": "ipython",
    "version": 3
   },
   "file_extension": ".py",
   "mimetype": "text/x-python",
   "name": "python",
   "nbconvert_exporter": "python",
   "pygments_lexer": "ipython3",
   "version": "3.8.10"
  }
 },
 "nbformat": 4,
 "nbformat_minor": 5
}
