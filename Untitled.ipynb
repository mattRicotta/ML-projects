{
 "cells": [
  {
   "cell_type": "markdown",
   "id": "3fd0caa7-1604-4fba-90f5-9697e8dcd9f7",
   "metadata": {
    "tags": []
   },
   "source": [
    "# Machine Learning Playground\n",
    "\n",
    "This is my first forray into machine learning with Python. I also plan to get practice using Jupyter Notebooks to work through my code.\n",
    "\n",
    "### Packages In Use:\n",
    "* Jupyter Labs (obvs!)\n",
    "* Matplotlib (for graphing)\n",
    "* Numpy (for datasets; included with Jupyter)\n",
    "* Scikit-Learn (ML library)\n",
    "\n",
    "To create the environment, install the requirements.txt `pip install -r requirements.txt`"
   ]
  },
  {
   "cell_type": "markdown",
   "id": "e16a6129-fb71-4638-82c9-7ab33a10d0dd",
   "metadata": {},
   "source": [
    "---\n",
    "## First Project: Linear Regression\n",
    "\n",
    "Build a predictive linear regression model with the dataset of my choice. "
   ]
  },
  {
   "cell_type": "code",
   "execution_count": null,
   "id": "b3dce492-5a30-4b26-9700-52361d9e2d4c",
   "metadata": {},
   "outputs": [],
   "source": []
  }
 ],
 "metadata": {
  "kernelspec": {
   "display_name": "Python 3 (ipykernel)",
   "language": "python",
   "name": "python3"
  },
  "language_info": {
   "codemirror_mode": {
    "name": "ipython",
    "version": 3
   },
   "file_extension": ".py",
   "mimetype": "text/x-python",
   "name": "python",
   "nbconvert_exporter": "python",
   "pygments_lexer": "ipython3",
   "version": "3.8.10"
  }
 },
 "nbformat": 4,
 "nbformat_minor": 5
}
