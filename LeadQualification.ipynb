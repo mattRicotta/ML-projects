{
 "cells": [
  {
   "cell_type": "markdown",
   "id": "e16a6129-fb71-4638-82c9-7ab33a10d0dd",
   "metadata": {
    "tags": []
   },
   "source": [
    "---\n",
    "## Random Forest: Lead Qualification\n",
    "\n",
    "Data set imported from Salesforce. Includes high quality leads (all data is populated) that have been either qualified or disqualified.\n"
   ]
  },
  {
   "cell_type": "code",
   "execution_count": 1,
   "id": "cdb5a3c8-3fc6-4330-aa46-7d08c3d9dd77",
   "metadata": {},
   "outputs": [
    {
     "name": "stdout",
     "output_type": "stream",
     "text": [
      "Index(['Age', 'Height', 'Weight', 'BMI', 'Face Amount', 'Health Status',\n",
      "       'Smoking Status', 'Status'],\n",
      "      dtype='object')\n"
     ]
    }
   ],
   "source": [
    "import pandas as pd\n",
    "import numpy as np\n",
    "\n",
    "#import the dataset\n",
    "df = pd.read_csv('./LeadQualification.csv')\n",
    "print(df.columns)\n",
    "                              "
   ]
  },
  {
   "cell_type": "markdown",
   "id": "2326d73e-de7b-470a-85dd-f9101b5e2384",
   "metadata": {},
   "source": [
    "### Select Data Set Metrics and Classifier"
   ]
  },
  {
   "cell_type": "code",
   "execution_count": 2,
   "id": "34f9cc7b-13a2-44dc-84c4-8db512ebd71b",
   "metadata": {},
   "outputs": [
    {
     "name": "stdout",
     "output_type": "stream",
     "text": [
      "Classifier: Status\n",
      "Attributes ['Age', 'Height', 'Weight', 'BMI', 'Face Amount', 'Health Status', 'Smoking Status']\n"
     ]
    }
   ],
   "source": [
    "# Create variables for metrics and classifier so we can use this on different data sets\n",
    "# Set the data we want to drop as drop_cols\n",
    "\n",
    "# Set our classifier\n",
    "classifier = 'Status'\n",
    "\n",
    "# Set the rest of the fields as attributes\n",
    "attributes = [column for column in list(df.columns) if column != classifier]\n",
    "print(\"Classifier:\",classifier)\n",
    "print(\"Attributes\",attributes)\n",
    "\n",
    "# Set X and y\n",
    "X = df[attributes]\n",
    "y = df[classifier]\n"
   ]
  },
  {
   "cell_type": "code",
   "execution_count": 3,
   "id": "23a361bb",
   "metadata": {},
   "outputs": [
    {
     "data": {
      "text/html": [
       "<div>\n",
       "<style scoped>\n",
       "    .dataframe tbody tr th:only-of-type {\n",
       "        vertical-align: middle;\n",
       "    }\n",
       "\n",
       "    .dataframe tbody tr th {\n",
       "        vertical-align: top;\n",
       "    }\n",
       "\n",
       "    .dataframe thead th {\n",
       "        text-align: right;\n",
       "    }\n",
       "</style>\n",
       "<table border=\"1\" class=\"dataframe\">\n",
       "  <thead>\n",
       "    <tr style=\"text-align: right;\">\n",
       "      <th></th>\n",
       "      <th>Age</th>\n",
       "      <th>Height</th>\n",
       "      <th>Weight</th>\n",
       "      <th>BMI</th>\n",
       "      <th>Face Amount</th>\n",
       "    </tr>\n",
       "  </thead>\n",
       "  <tbody>\n",
       "    <tr>\n",
       "      <th>count</th>\n",
       "      <td>125.000000</td>\n",
       "      <td>125.000000</td>\n",
       "      <td>125.000000</td>\n",
       "      <td>125.000000</td>\n",
       "      <td>125.000000</td>\n",
       "    </tr>\n",
       "    <tr>\n",
       "      <th>mean</th>\n",
       "      <td>69.632000</td>\n",
       "      <td>67.488000</td>\n",
       "      <td>187.960000</td>\n",
       "      <td>28.836800</td>\n",
       "      <td>198050.024000</td>\n",
       "    </tr>\n",
       "    <tr>\n",
       "      <th>std</th>\n",
       "      <td>7.884791</td>\n",
       "      <td>3.828198</td>\n",
       "      <td>44.789904</td>\n",
       "      <td>5.583808</td>\n",
       "      <td>154237.679316</td>\n",
       "    </tr>\n",
       "    <tr>\n",
       "      <th>min</th>\n",
       "      <td>52.000000</td>\n",
       "      <td>60.000000</td>\n",
       "      <td>98.000000</td>\n",
       "      <td>17.750000</td>\n",
       "      <td>10000.000000</td>\n",
       "    </tr>\n",
       "    <tr>\n",
       "      <th>25%</th>\n",
       "      <td>63.000000</td>\n",
       "      <td>64.000000</td>\n",
       "      <td>157.000000</td>\n",
       "      <td>25.600000</td>\n",
       "      <td>100000.000000</td>\n",
       "    </tr>\n",
       "    <tr>\n",
       "      <th>50%</th>\n",
       "      <td>70.000000</td>\n",
       "      <td>68.000000</td>\n",
       "      <td>180.000000</td>\n",
       "      <td>28.240000</td>\n",
       "      <td>150000.000000</td>\n",
       "    </tr>\n",
       "    <tr>\n",
       "      <th>75%</th>\n",
       "      <td>75.000000</td>\n",
       "      <td>70.000000</td>\n",
       "      <td>217.000000</td>\n",
       "      <td>32.480000</td>\n",
       "      <td>250000.000000</td>\n",
       "    </tr>\n",
       "    <tr>\n",
       "      <th>max</th>\n",
       "      <td>100.000000</td>\n",
       "      <td>78.000000</td>\n",
       "      <td>329.000000</td>\n",
       "      <td>48.580000</td>\n",
       "      <td>1000000.000000</td>\n",
       "    </tr>\n",
       "  </tbody>\n",
       "</table>\n",
       "</div>"
      ],
      "text/plain": [
       "              Age      Height      Weight         BMI     Face Amount\n",
       "count  125.000000  125.000000  125.000000  125.000000      125.000000\n",
       "mean    69.632000   67.488000  187.960000   28.836800   198050.024000\n",
       "std      7.884791    3.828198   44.789904    5.583808   154237.679316\n",
       "min     52.000000   60.000000   98.000000   17.750000    10000.000000\n",
       "25%     63.000000   64.000000  157.000000   25.600000   100000.000000\n",
       "50%     70.000000   68.000000  180.000000   28.240000   150000.000000\n",
       "75%     75.000000   70.000000  217.000000   32.480000   250000.000000\n",
       "max    100.000000   78.000000  329.000000   48.580000  1000000.000000"
      ]
     },
     "execution_count": 3,
     "metadata": {},
     "output_type": "execute_result"
    }
   ],
   "source": [
    "df.describe()"
   ]
  },
  {
   "cell_type": "code",
   "execution_count": 4,
   "id": "d053a9b9",
   "metadata": {},
   "outputs": [
    {
     "name": "stdout",
     "output_type": "stream",
     "text": [
      "<class 'pandas.core.frame.DataFrame'>\n",
      "RangeIndex: 125 entries, 0 to 124\n",
      "Data columns (total 8 columns):\n",
      " #   Column          Non-Null Count  Dtype  \n",
      "---  ------          --------------  -----  \n",
      " 0   Age             125 non-null    float64\n",
      " 1   Height          125 non-null    float64\n",
      " 2   Weight          125 non-null    float64\n",
      " 3   BMI             125 non-null    float64\n",
      " 4   Face Amount     125 non-null    float64\n",
      " 5   Health Status   125 non-null    object \n",
      " 6   Smoking Status  125 non-null    object \n",
      " 7   Status          125 non-null    object \n",
      "dtypes: float64(5), object(3)\n",
      "memory usage: 7.9+ KB\n"
     ]
    }
   ],
   "source": [
    "df.info()"
   ]
  },
  {
   "cell_type": "markdown",
   "id": "53eb6e5c-3f4c-4d93-bf6b-f36d922de4a7",
   "metadata": {},
   "source": [
    "### Category Fields\n",
    "Let's convert our object fields into the category datatype."
   ]
  },
  {
   "cell_type": "code",
   "execution_count": 5,
   "id": "934db7e2-dda9-429f-b9de-256236e5353a",
   "metadata": {},
   "outputs": [
    {
     "name": "stdout",
     "output_type": "stream",
     "text": [
      "Health Status:  ['Slightly below average', 'Well below average', 'Average', 'Terminal', 'Above average']\n",
      "Categories (5, object): ['Above average', 'Average', 'Slightly below average', 'Terminal', 'Well below average']\n",
      "Smoking Status:  ['NonSmoker', 'Smoker']\n",
      "Categories (2, object): ['NonSmoker', 'Smoker']\n",
      "Status:  ['Disqualified', 'Qualified']\n",
      "Categories (2, object): ['Disqualified', 'Qualified']\n"
     ]
    }
   ],
   "source": [
    "#Convert object fields to category dtype\n",
    "\n",
    "object_fields = list(df.select_dtypes('object').columns)\n",
    "\n",
    "for field in object_fields:\n",
    "    df[field] = df[field].astype('category')\n",
    "    print(field+': ', df[field].unique()) # print unique values for next step"
   ]
  },
  {
   "cell_type": "code",
   "execution_count": 6,
   "id": "f17af0c9",
   "metadata": {},
   "outputs": [
    {
     "data": {
      "text/html": [
       "<div>\n",
       "<style scoped>\n",
       "    .dataframe tbody tr th:only-of-type {\n",
       "        vertical-align: middle;\n",
       "    }\n",
       "\n",
       "    .dataframe tbody tr th {\n",
       "        vertical-align: top;\n",
       "    }\n",
       "\n",
       "    .dataframe thead th {\n",
       "        text-align: right;\n",
       "    }\n",
       "</style>\n",
       "<table border=\"1\" class=\"dataframe\">\n",
       "  <thead>\n",
       "    <tr style=\"text-align: right;\">\n",
       "      <th></th>\n",
       "      <th>Age</th>\n",
       "      <th>Height</th>\n",
       "      <th>Weight</th>\n",
       "      <th>BMI</th>\n",
       "      <th>Face Amount</th>\n",
       "      <th>Health Status</th>\n",
       "      <th>Smoking Status</th>\n",
       "      <th>Status</th>\n",
       "    </tr>\n",
       "  </thead>\n",
       "  <tbody>\n",
       "    <tr>\n",
       "      <th>0</th>\n",
       "      <td>77.0</td>\n",
       "      <td>78.0</td>\n",
       "      <td>220.0</td>\n",
       "      <td>25.42</td>\n",
       "      <td>200000.0</td>\n",
       "      <td>2.0</td>\n",
       "      <td>0.0</td>\n",
       "      <td>0.0</td>\n",
       "    </tr>\n",
       "    <tr>\n",
       "      <th>1</th>\n",
       "      <td>60.0</td>\n",
       "      <td>75.0</td>\n",
       "      <td>325.0</td>\n",
       "      <td>40.62</td>\n",
       "      <td>100000.0</td>\n",
       "      <td>1.0</td>\n",
       "      <td>1.0</td>\n",
       "      <td>0.0</td>\n",
       "    </tr>\n",
       "    <tr>\n",
       "      <th>2</th>\n",
       "      <td>59.0</td>\n",
       "      <td>75.0</td>\n",
       "      <td>275.0</td>\n",
       "      <td>34.37</td>\n",
       "      <td>200000.0</td>\n",
       "      <td>1.0</td>\n",
       "      <td>0.0</td>\n",
       "      <td>1.0</td>\n",
       "    </tr>\n",
       "    <tr>\n",
       "      <th>3</th>\n",
       "      <td>75.0</td>\n",
       "      <td>75.0</td>\n",
       "      <td>225.0</td>\n",
       "      <td>28.12</td>\n",
       "      <td>100000.0</td>\n",
       "      <td>3.0</td>\n",
       "      <td>0.0</td>\n",
       "      <td>0.0</td>\n",
       "    </tr>\n",
       "    <tr>\n",
       "      <th>4</th>\n",
       "      <td>61.0</td>\n",
       "      <td>74.0</td>\n",
       "      <td>220.0</td>\n",
       "      <td>28.24</td>\n",
       "      <td>350000.0</td>\n",
       "      <td>3.0</td>\n",
       "      <td>0.0</td>\n",
       "      <td>0.0</td>\n",
       "    </tr>\n",
       "  </tbody>\n",
       "</table>\n",
       "</div>"
      ],
      "text/plain": [
       "    Age  Height  Weight    BMI  Face Amount  Health Status  Smoking Status  \\\n",
       "0  77.0    78.0   220.0  25.42     200000.0            2.0             0.0   \n",
       "1  60.0    75.0   325.0  40.62     100000.0            1.0             1.0   \n",
       "2  59.0    75.0   275.0  34.37     200000.0            1.0             0.0   \n",
       "3  75.0    75.0   225.0  28.12     100000.0            3.0             0.0   \n",
       "4  61.0    74.0   220.0  28.24     350000.0            3.0             0.0   \n",
       "\n",
       "   Status  \n",
       "0     0.0  \n",
       "1     0.0  \n",
       "2     1.0  \n",
       "3     0.0  \n",
       "4     0.0  "
      ]
     },
     "execution_count": 6,
     "metadata": {},
     "output_type": "execute_result"
    }
   ],
   "source": [
    "# Convert Health and Smoking Status into number values\n",
    "# Specify the order for  our category fields\n",
    "\n",
    "health = ['Terminal', 'Well below average', 'Slightly below average', 'Average', 'Above average']\n",
    "smoke = ['NonSmoker', 'Smoker']\n",
    "lead_status = ['Disqualified', 'Qualified']\n",
    "\n",
    "from sklearn.preprocessing import OrdinalEncoder\n",
    "ordinal = OrdinalEncoder(categories=[health, smoke, lead_status])\n",
    "ordinal.fit(df[['Health Status','Smoking Status','Status']])\n",
    "df[['Health Status','Smoking Status','Status']] = ordinal.transform(df[['Health Status','Smoking Status','Status']])\n",
    "df.head()"
   ]
  },
  {
   "cell_type": "markdown",
   "id": "284a2be6-22f5-4e18-8813-05d1199b46fc",
   "metadata": {},
   "source": [
    "## Split the data into training and test portions"
   ]
  },
  {
   "cell_type": "code",
   "execution_count": 7,
   "id": "9f8fd2df-12df-45d4-8ab3-0de0a0e09580",
   "metadata": {},
   "outputs": [],
   "source": [
    "from sklearn.model_selection import train_test_split\n",
    "\n",
    "\n",
    "X = df[attributes]\n",
    "y = df[classifier]\n",
    "\n",
    "X_train, X_test, y_train, y_test = train_test_split(X, y, train_size = 0.8) #training set size = 1-test_size"
   ]
  },
  {
   "cell_type": "code",
   "execution_count": 8,
   "id": "3eb0f427-e6ee-4dc3-bdaf-ef12839395d3",
   "metadata": {},
   "outputs": [
    {
     "data": {
      "text/html": [
       "<div>\n",
       "<style scoped>\n",
       "    .dataframe tbody tr th:only-of-type {\n",
       "        vertical-align: middle;\n",
       "    }\n",
       "\n",
       "    .dataframe tbody tr th {\n",
       "        vertical-align: top;\n",
       "    }\n",
       "\n",
       "    .dataframe thead th {\n",
       "        text-align: right;\n",
       "    }\n",
       "</style>\n",
       "<table border=\"1\" class=\"dataframe\">\n",
       "  <thead>\n",
       "    <tr style=\"text-align: right;\">\n",
       "      <th></th>\n",
       "      <th>Age</th>\n",
       "      <th>Height</th>\n",
       "      <th>Weight</th>\n",
       "      <th>BMI</th>\n",
       "      <th>Face Amount</th>\n",
       "      <th>Health Status</th>\n",
       "      <th>Smoking Status</th>\n",
       "    </tr>\n",
       "  </thead>\n",
       "  <tbody>\n",
       "    <tr>\n",
       "      <th>123</th>\n",
       "      <td>81.0</td>\n",
       "      <td>61.0</td>\n",
       "      <td>165.0</td>\n",
       "      <td>31.17</td>\n",
       "      <td>240000.0</td>\n",
       "      <td>3.0</td>\n",
       "      <td>0.0</td>\n",
       "    </tr>\n",
       "    <tr>\n",
       "      <th>121</th>\n",
       "      <td>71.0</td>\n",
       "      <td>61.0</td>\n",
       "      <td>115.0</td>\n",
       "      <td>21.73</td>\n",
       "      <td>250000.0</td>\n",
       "      <td>4.0</td>\n",
       "      <td>0.0</td>\n",
       "    </tr>\n",
       "    <tr>\n",
       "      <th>66</th>\n",
       "      <td>79.0</td>\n",
       "      <td>67.0</td>\n",
       "      <td>170.0</td>\n",
       "      <td>26.62</td>\n",
       "      <td>100000.0</td>\n",
       "      <td>4.0</td>\n",
       "      <td>0.0</td>\n",
       "    </tr>\n",
       "    <tr>\n",
       "      <th>109</th>\n",
       "      <td>75.0</td>\n",
       "      <td>63.0</td>\n",
       "      <td>150.0</td>\n",
       "      <td>26.57</td>\n",
       "      <td>450000.0</td>\n",
       "      <td>3.0</td>\n",
       "      <td>0.0</td>\n",
       "    </tr>\n",
       "    <tr>\n",
       "      <th>85</th>\n",
       "      <td>71.0</td>\n",
       "      <td>65.0</td>\n",
       "      <td>158.0</td>\n",
       "      <td>26.29</td>\n",
       "      <td>150000.0</td>\n",
       "      <td>4.0</td>\n",
       "      <td>0.0</td>\n",
       "    </tr>\n",
       "  </tbody>\n",
       "</table>\n",
       "</div>"
      ],
      "text/plain": [
       "      Age  Height  Weight    BMI  Face Amount  Health Status  Smoking Status\n",
       "123  81.0    61.0   165.0  31.17     240000.0            3.0             0.0\n",
       "121  71.0    61.0   115.0  21.73     250000.0            4.0             0.0\n",
       "66   79.0    67.0   170.0  26.62     100000.0            4.0             0.0\n",
       "109  75.0    63.0   150.0  26.57     450000.0            3.0             0.0\n",
       "85   71.0    65.0   158.0  26.29     150000.0            4.0             0.0"
      ]
     },
     "execution_count": 8,
     "metadata": {},
     "output_type": "execute_result"
    }
   ],
   "source": [
    "#show metrics\n",
    "\n",
    "X_train.head() #first 5 rows"
   ]
  },
  {
   "cell_type": "code",
   "execution_count": 9,
   "id": "e8602297-9759-4a6f-85f8-d537c24fc528",
   "metadata": {},
   "outputs": [
    {
     "data": {
      "text/plain": [
       "123    1.0\n",
       "121    0.0\n",
       "66     0.0\n",
       "109    0.0\n",
       "85     0.0\n",
       "Name: Status, dtype: float64"
      ]
     },
     "execution_count": 9,
     "metadata": {},
     "output_type": "execute_result"
    }
   ],
   "source": [
    "#show quality scores\n",
    "\n",
    "y_train.head() #prints out first 5 rows"
   ]
  },
  {
   "cell_type": "markdown",
   "id": "9cfdfbf4-e603-4013-85fd-912683f892ef",
   "metadata": {},
   "source": [
    "## Training the Model"
   ]
  },
  {
   "cell_type": "code",
   "execution_count": 10,
   "id": "27d42541-d04f-4b48-8338-4c720ae08b3e",
   "metadata": {},
   "outputs": [
    {
     "name": "stdout",
     "output_type": "stream",
     "text": [
      "Parameters:\n",
      "\n",
      "     bootstrap = True,\n",
      "     ccp_alpha = 0.0,\n",
      "     class_weight = None,\n",
      "     criterion = gini,\n",
      "     max_depth = None,\n",
      "     max_features = 7,\n",
      "     max_leaf_nodes = None,\n",
      "     max_samples = None,\n",
      "     min_impurity_decrease = 0.0,\n",
      "     min_samples_leaf = 1,\n",
      "     min_samples_split = 2,\n",
      "     min_weight_fraction_leaf = 0.0,\n",
      "     n_estimators = 100,\n",
      "     n_jobs = None,\n",
      "     oob_score = False,\n",
      "     random_state = 6,\n",
      "     verbose = 0,\n",
      "     warm_start = False,\n"
     ]
    }
   ],
   "source": [
    "#Import Random Forest Model\n",
    "from sklearn.ensemble import RandomForestClassifier as rf\n",
    "\n",
    "#Create a Gaussian Classifier with hyperparameters\n",
    "clf=rf(n_estimators=100, max_features=7, random_state=6)\n",
    "\n",
    "#View Current Parameters\n",
    "print('Parameters:\\n')\n",
    "for param, value in clf.get_params().items():\n",
    "    print('    ',param,'=',str(value)+',')\n",
    "\n",
    "\n",
    "#Train the model using the training sets\n",
    "clf.fit(X_train, y_train)\n",
    "\n",
    "y_pred=clf.predict(X_test)"
   ]
  },
  {
   "cell_type": "markdown",
   "id": "0bf497f5-2672-4675-ba49-e4af16460b54",
   "metadata": {},
   "source": [
    "## Evaluate the Model"
   ]
  },
  {
   "cell_type": "code",
   "execution_count": 11,
   "id": "b92b4a3c-a42c-4073-9d2f-c3de32119200",
   "metadata": {},
   "outputs": [
    {
     "name": "stdout",
     "output_type": "stream",
     "text": [
      "Accuracy: 76.0%\n"
     ]
    }
   ],
   "source": [
    "#Import Scikit-Learn metrics module for accuracy calculation\n",
    "from sklearn import metrics\n",
    "\n",
    "#Model Accuracy -- how often is the classifier correct?\n",
    "print(\"Accuracy:\",str(round(metrics.accuracy_score(y_test, y_pred)*100,2))+'%')"
   ]
  },
  {
   "cell_type": "markdown",
   "id": "efd78c1b-cc8b-4a17-bb10-7d31c0d03b4b",
   "metadata": {},
   "source": [
    "### What Drives the Model's Decision Making Abilities?"
   ]
  },
  {
   "cell_type": "code",
   "execution_count": 12,
   "id": "d885c568-b18e-4629-afeb-ec866926917b",
   "metadata": {},
   "outputs": [],
   "source": [
    "#Feature importance with Pandas\n",
    "#Order by importance\n",
    "feature_imp = pd.Series(clf.feature_importances_, index=attributes).sort_values(ascending=True)"
   ]
  },
  {
   "cell_type": "code",
   "execution_count": 13,
   "id": "70fd7e4c-c120-43d8-bf84-8f44b277f6f6",
   "metadata": {},
   "outputs": [
    {
     "data": {
      "image/png": "[encoded data removed]",
      "text/plain": [
       "<Figure size 432x288 with 1 Axes>"
      ]
     },
     "metadata": {},
     "output_type": "display_data"
    }
   ],
   "source": [
    "#Plot the data\n",
    "from matplotlib import pyplot as plt, ticker as mtick\n",
    "\n",
    "#format the graph\n",
    "plt.style.use('dark_background')\n",
    "fig, ax = plt.subplots()\n",
    "fig.patch.set_facecolor('#111111')\n",
    "ax.patch.set_facecolor('#111111')\n",
    "ax.xaxis.set_major_formatter(mtick.PercentFormatter(1))\n",
    "\n",
    "#plot the data\n",
    "ax.barh(feature_imp.index, feature_imp.values, color='#ffb81c')\n",
    "plt.show()\n"
   ]
  },
  {
   "cell_type": "markdown",
   "id": "1ee48afe-2ddd-4e06-82fa-57751b4cf056",
   "metadata": {},
   "source": [
    "### Let's Test a New Lead: Does Our Model Qualify Them?"
   ]
  },
  {
   "cell_type": "code",
   "execution_count": 14,
   "id": "35059159-d96d-4470-ab36-65192dcc3c04",
   "metadata": {},
   "outputs": [
    {
     "name": "stdout",
     "output_type": "stream",
     "text": [
      "Prediction:\n",
      "Lead Disqualified\n"
     ]
    }
   ],
   "source": [
    "# Create a new Lead to test\n",
    "# Attribute Order: 'Age', 'Height', 'Weight', 'BMI', 'Face Amount', 'Health Status', 'Smoking Status'\n",
    "test_lead = {\n",
    "    'Age':90,\n",
    "    'Height':70,\n",
    "    'Weight':170,\n",
    "    'BMI':24.2,\n",
    "    'Face Amount':500000,\n",
    "    'Health Status':0,\n",
    "    'Smoking Status':1\n",
    "}\n",
    "\n",
    "lead_df = pd.DataFrame.from_dict([test_lead])\n",
    "\n",
    "#lead_df[['Health Status', 'Smoking Status']] = ordinal.transform(lead_df[['Health Status', 'Smoking Status']])\n",
    "predicted_score = clf.predict(lead_df)\n",
    "\n",
    "print(\"Prediction:\")\n",
    "print(\"Lead\",lead_status[int(predicted_score)])"
   ]
  },
  {
   "cell_type": "code",
   "execution_count": 15,
   "id": "c79cbb2c-b82d-42c2-83d5-c3cb76ea68bb",
   "metadata": {},
   "outputs": [
    {
     "data": {
      "text/html": [
       "<div>\n",
       "<style scoped>\n",
       "    .dataframe tbody tr th:only-of-type {\n",
       "        vertical-align: middle;\n",
       "    }\n",
       "\n",
       "    .dataframe tbody tr th {\n",
       "        vertical-align: top;\n",
       "    }\n",
       "\n",
       "    .dataframe thead th {\n",
       "        text-align: right;\n",
       "    }\n",
       "</style>\n",
       "<table border=\"1\" class=\"dataframe\">\n",
       "  <thead>\n",
       "    <tr style=\"text-align: right;\">\n",
       "      <th></th>\n",
       "      <th>Age</th>\n",
       "      <th>Height</th>\n",
       "      <th>Weight</th>\n",
       "      <th>BMI</th>\n",
       "      <th>Face Amount</th>\n",
       "      <th>Health Status</th>\n",
       "      <th>Smoking Status</th>\n",
       "      <th>Status</th>\n",
       "      <th>Age Bin</th>\n",
       "      <th>Face Amount Bin</th>\n",
       "      <th>Height Bin</th>\n",
       "      <th>BMI Bin</th>\n",
       "    </tr>\n",
       "  </thead>\n",
       "  <tbody>\n",
       "    <tr>\n",
       "      <th>0</th>\n",
       "      <td>77.0</td>\n",
       "      <td>78.0</td>\n",
       "      <td>220.0</td>\n",
       "      <td>25.42</td>\n",
       "      <td>200000.0</td>\n",
       "      <td>2.0</td>\n",
       "      <td>0.0</td>\n",
       "      <td>0.0</td>\n",
       "      <td>(75, 80]</td>\n",
       "      <td>(100000, 500000]</td>\n",
       "      <td>(75, 80]</td>\n",
       "      <td>(25, 30]</td>\n",
       "    </tr>\n",
       "    <tr>\n",
       "      <th>1</th>\n",
       "      <td>60.0</td>\n",
       "      <td>75.0</td>\n",
       "      <td>325.0</td>\n",
       "      <td>40.62</td>\n",
       "      <td>100000.0</td>\n",
       "      <td>1.0</td>\n",
       "      <td>1.0</td>\n",
       "      <td>0.0</td>\n",
       "      <td>(0, 60]</td>\n",
       "      <td>(0, 100000]</td>\n",
       "      <td>(70, 75]</td>\n",
       "      <td>(40, 45]</td>\n",
       "    </tr>\n",
       "    <tr>\n",
       "      <th>2</th>\n",
       "      <td>59.0</td>\n",
       "      <td>75.0</td>\n",
       "      <td>275.0</td>\n",
       "      <td>34.37</td>\n",
       "      <td>200000.0</td>\n",
       "      <td>1.0</td>\n",
       "      <td>0.0</td>\n",
       "      <td>1.0</td>\n",
       "      <td>(0, 60]</td>\n",
       "      <td>(100000, 500000]</td>\n",
       "      <td>(70, 75]</td>\n",
       "      <td>(30, 35]</td>\n",
       "    </tr>\n",
       "    <tr>\n",
       "      <th>3</th>\n",
       "      <td>75.0</td>\n",
       "      <td>75.0</td>\n",
       "      <td>225.0</td>\n",
       "      <td>28.12</td>\n",
       "      <td>100000.0</td>\n",
       "      <td>3.0</td>\n",
       "      <td>0.0</td>\n",
       "      <td>0.0</td>\n",
       "      <td>(70, 75]</td>\n",
       "      <td>(0, 100000]</td>\n",
       "      <td>(70, 75]</td>\n",
       "      <td>(25, 30]</td>\n",
       "    </tr>\n",
       "    <tr>\n",
       "      <th>4</th>\n",
       "      <td>61.0</td>\n",
       "      <td>74.0</td>\n",
       "      <td>220.0</td>\n",
       "      <td>28.24</td>\n",
       "      <td>350000.0</td>\n",
       "      <td>3.0</td>\n",
       "      <td>0.0</td>\n",
       "      <td>0.0</td>\n",
       "      <td>(60, 65]</td>\n",
       "      <td>(100000, 500000]</td>\n",
       "      <td>(70, 75]</td>\n",
       "      <td>(25, 30]</td>\n",
       "    </tr>\n",
       "  </tbody>\n",
       "</table>\n",
       "</div>"
      ],
      "text/plain": [
       "    Age  Height  Weight    BMI  Face Amount  Health Status  Smoking Status  \\\n",
       "0  77.0    78.0   220.0  25.42     200000.0            2.0             0.0   \n",
       "1  60.0    75.0   325.0  40.62     100000.0            1.0             1.0   \n",
       "2  59.0    75.0   275.0  34.37     200000.0            1.0             0.0   \n",
       "3  75.0    75.0   225.0  28.12     100000.0            3.0             0.0   \n",
       "4  61.0    74.0   220.0  28.24     350000.0            3.0             0.0   \n",
       "\n",
       "   Status   Age Bin   Face Amount Bin Height Bin   BMI Bin  \n",
       "0     0.0  (75, 80]  (100000, 500000]   (75, 80]  (25, 30]  \n",
       "1     0.0   (0, 60]       (0, 100000]   (70, 75]  (40, 45]  \n",
       "2     1.0   (0, 60]  (100000, 500000]   (70, 75]  (30, 35]  \n",
       "3     0.0  (70, 75]       (0, 100000]   (70, 75]  (25, 30]  \n",
       "4     0.0  (60, 65]  (100000, 500000]   (70, 75]  (25, 30]  "
      ]
     },
     "execution_count": 15,
     "metadata": {},
     "output_type": "execute_result"
    }
   ],
   "source": [
    "# Let's bin our data to view a few histograms\n",
    "\n",
    "age_bins = [0, 60, 65, 70, 75, 80, 85, 90, 95, 100, 105]\n",
    "df['Age Bin'] = pd.cut(df['Age'],age_bins)\n",
    "\n",
    "face_bins = [0, 100000, 500000, 1000000, 1500000, 2000000, 2500000, 3000000]\n",
    "df['Face Amount Bin'] = pd.cut(df['Face Amount'], face_bins)\n",
    "\n",
    "height_bins = [0, 45, 50, 55, 60, 65, 70, 75, 80]\n",
    "df['Height Bin'] = pd.cut(df['Height'], height_bins)\n",
    "\n",
    "bmi_bins = [0, 10, 15, 20, 25, 30, 35, 40, 45, 50]\n",
    "df['BMI Bin'] = pd.cut(df['BMI'], bmi_bins)\n",
    "\n",
    "df.head()"
   ]
  },
  {
   "cell_type": "code",
   "execution_count": 16,
   "id": "317c1fca-0383-48f0-9a0b-5f659c95108f",
   "metadata": {},
   "outputs": [
    {
     "data": {
      "text/html": [
       "<div>\n",
       "<style scoped>\n",
       "    .dataframe tbody tr th:only-of-type {\n",
       "        vertical-align: middle;\n",
       "    }\n",
       "\n",
       "    .dataframe tbody tr th {\n",
       "        vertical-align: top;\n",
       "    }\n",
       "\n",
       "    .dataframe thead th {\n",
       "        text-align: right;\n",
       "    }\n",
       "</style>\n",
       "<table border=\"1\" class=\"dataframe\">\n",
       "  <thead>\n",
       "    <tr style=\"text-align: right;\">\n",
       "      <th></th>\n",
       "      <th>Age</th>\n",
       "      <th>Height</th>\n",
       "      <th>Weight</th>\n",
       "      <th>BMI</th>\n",
       "      <th>Face Amount</th>\n",
       "      <th>Health Status</th>\n",
       "      <th>Smoking Status</th>\n",
       "      <th>Status</th>\n",
       "      <th>Age Bin</th>\n",
       "      <th>Face Amount Bin</th>\n",
       "      <th>Height Bin</th>\n",
       "      <th>BMI Bin</th>\n",
       "    </tr>\n",
       "  </thead>\n",
       "  <tbody>\n",
       "    <tr>\n",
       "      <th>0</th>\n",
       "      <td>77.0</td>\n",
       "      <td>78.0</td>\n",
       "      <td>220.0</td>\n",
       "      <td>25.42</td>\n",
       "      <td>200000.0</td>\n",
       "      <td>2.0</td>\n",
       "      <td>0.0</td>\n",
       "      <td>Disqualified</td>\n",
       "      <td>(75, 80]</td>\n",
       "      <td>(100000, 500000]</td>\n",
       "      <td>(75, 80]</td>\n",
       "      <td>(25, 30]</td>\n",
       "    </tr>\n",
       "    <tr>\n",
       "      <th>1</th>\n",
       "      <td>60.0</td>\n",
       "      <td>75.0</td>\n",
       "      <td>325.0</td>\n",
       "      <td>40.62</td>\n",
       "      <td>100000.0</td>\n",
       "      <td>1.0</td>\n",
       "      <td>1.0</td>\n",
       "      <td>Disqualified</td>\n",
       "      <td>(0, 60]</td>\n",
       "      <td>(0, 100000]</td>\n",
       "      <td>(70, 75]</td>\n",
       "      <td>(40, 45]</td>\n",
       "    </tr>\n",
       "    <tr>\n",
       "      <th>2</th>\n",
       "      <td>59.0</td>\n",
       "      <td>75.0</td>\n",
       "      <td>275.0</td>\n",
       "      <td>34.37</td>\n",
       "      <td>200000.0</td>\n",
       "      <td>1.0</td>\n",
       "      <td>0.0</td>\n",
       "      <td>Qualified</td>\n",
       "      <td>(0, 60]</td>\n",
       "      <td>(100000, 500000]</td>\n",
       "      <td>(70, 75]</td>\n",
       "      <td>(30, 35]</td>\n",
       "    </tr>\n",
       "    <tr>\n",
       "      <th>3</th>\n",
       "      <td>75.0</td>\n",
       "      <td>75.0</td>\n",
       "      <td>225.0</td>\n",
       "      <td>28.12</td>\n",
       "      <td>100000.0</td>\n",
       "      <td>3.0</td>\n",
       "      <td>0.0</td>\n",
       "      <td>Disqualified</td>\n",
       "      <td>(70, 75]</td>\n",
       "      <td>(0, 100000]</td>\n",
       "      <td>(70, 75]</td>\n",
       "      <td>(25, 30]</td>\n",
       "    </tr>\n",
       "    <tr>\n",
       "      <th>4</th>\n",
       "      <td>61.0</td>\n",
       "      <td>74.0</td>\n",
       "      <td>220.0</td>\n",
       "      <td>28.24</td>\n",
       "      <td>350000.0</td>\n",
       "      <td>3.0</td>\n",
       "      <td>0.0</td>\n",
       "      <td>Disqualified</td>\n",
       "      <td>(60, 65]</td>\n",
       "      <td>(100000, 500000]</td>\n",
       "      <td>(70, 75]</td>\n",
       "      <td>(25, 30]</td>\n",
       "    </tr>\n",
       "  </tbody>\n",
       "</table>\n",
       "</div>"
      ],
      "text/plain": [
       "    Age  Height  Weight    BMI  Face Amount  Health Status  Smoking Status  \\\n",
       "0  77.0    78.0   220.0  25.42     200000.0            2.0             0.0   \n",
       "1  60.0    75.0   325.0  40.62     100000.0            1.0             1.0   \n",
       "2  59.0    75.0   275.0  34.37     200000.0            1.0             0.0   \n",
       "3  75.0    75.0   225.0  28.12     100000.0            3.0             0.0   \n",
       "4  61.0    74.0   220.0  28.24     350000.0            3.0             0.0   \n",
       "\n",
       "         Status   Age Bin   Face Amount Bin Height Bin   BMI Bin  \n",
       "0  Disqualified  (75, 80]  (100000, 500000]   (75, 80]  (25, 30]  \n",
       "1  Disqualified   (0, 60]       (0, 100000]   (70, 75]  (40, 45]  \n",
       "2     Qualified   (0, 60]  (100000, 500000]   (70, 75]  (30, 35]  \n",
       "3  Disqualified  (70, 75]       (0, 100000]   (70, 75]  (25, 30]  \n",
       "4  Disqualified  (60, 65]  (100000, 500000]   (70, 75]  (25, 30]  "
      ]
     },
     "execution_count": 16,
     "metadata": {},
     "output_type": "execute_result"
    }
   ],
   "source": [
    "df['Status'] = df['Status'].replace({0:'Disqualified',1:'Qualified'})\n",
    "df.head()\n"
   ]
  },
  {
   "cell_type": "code",
   "execution_count": 20,
   "id": "ee16153a-50c6-4056-bf61-f98ab38d88b9",
   "metadata": {},
   "outputs": [
    {
     "ename": "KeyError",
     "evalue": "\"['Age'] not found in axis\"",
     "output_type": "error",
     "traceback": [
      "\u001b[0;31m---------------------------------------------------------------------------\u001b[0m",
      "\u001b[0;31mKeyError\u001b[0m                                  Traceback (most recent call last)",
      "\u001b[0;32m/tmp/ipykernel_1333/1886272073.py\u001b[0m in \u001b[0;36m<module>\u001b[0;34m\u001b[0m\n\u001b[1;32m      2\u001b[0m \u001b[0;34m\u001b[0m\u001b[0m\n\u001b[1;32m      3\u001b[0m \u001b[0mdf_qualified\u001b[0m \u001b[0;34m=\u001b[0m \u001b[0mdf\u001b[0m\u001b[0;34m.\u001b[0m\u001b[0mquery\u001b[0m\u001b[0;34m(\u001b[0m\u001b[0;34m'Status == \"Qualified\"'\u001b[0m\u001b[0;34m)\u001b[0m\u001b[0;34m\u001b[0m\u001b[0;34m\u001b[0m\u001b[0m\n\u001b[0;32m----> 4\u001b[0;31m \u001b[0mdf_qualified\u001b[0m\u001b[0;34m.\u001b[0m\u001b[0mdrop\u001b[0m\u001b[0;34m(\u001b[0m\u001b[0;34m'Age'\u001b[0m\u001b[0;34m)\u001b[0m\u001b[0;34m\u001b[0m\u001b[0;34m\u001b[0m\u001b[0m\n\u001b[0m\u001b[1;32m      5\u001b[0m \u001b[0mdf_qualified\u001b[0m\u001b[0;34m.\u001b[0m\u001b[0mhead\u001b[0m\u001b[0;34m(\u001b[0m\u001b[0;34m)\u001b[0m\u001b[0;34m\u001b[0m\u001b[0;34m\u001b[0m\u001b[0m\n",
      "\u001b[0;32m~/ML-projects/env/lib/python3.8/site-packages/pandas/util/_decorators.py\u001b[0m in \u001b[0;36mwrapper\u001b[0;34m(*args, **kwargs)\u001b[0m\n\u001b[1;32m    309\u001b[0m                     \u001b[0mstacklevel\u001b[0m\u001b[0;34m=\u001b[0m\u001b[0mstacklevel\u001b[0m\u001b[0;34m,\u001b[0m\u001b[0;34m\u001b[0m\u001b[0;34m\u001b[0m\u001b[0m\n\u001b[1;32m    310\u001b[0m                 )\n\u001b[0;32m--> 311\u001b[0;31m             \u001b[0;32mreturn\u001b[0m \u001b[0mfunc\u001b[0m\u001b[0;34m(\u001b[0m\u001b[0;34m*\u001b[0m\u001b[0margs\u001b[0m\u001b[0;34m,\u001b[0m \u001b[0;34m**\u001b[0m\u001b[0mkwargs\u001b[0m\u001b[0;34m)\u001b[0m\u001b[0;34m\u001b[0m\u001b[0;34m\u001b[0m\u001b[0m\n\u001b[0m\u001b[1;32m    312\u001b[0m \u001b[0;34m\u001b[0m\u001b[0m\n\u001b[1;32m    313\u001b[0m         \u001b[0;32mreturn\u001b[0m \u001b[0mwrapper\u001b[0m\u001b[0;34m\u001b[0m\u001b[0;34m\u001b[0m\u001b[0m\n",
      "\u001b[0;32m~/ML-projects/env/lib/python3.8/site-packages/pandas/core/frame.py\u001b[0m in \u001b[0;36mdrop\u001b[0;34m(self, labels, axis, index, columns, level, inplace, errors)\u001b[0m\n\u001b[1;32m   4904\u001b[0m                 \u001b[0mweight\u001b[0m  \u001b[0;36m1.0\u001b[0m     \u001b[0;36m0.8\u001b[0m\u001b[0;34m\u001b[0m\u001b[0;34m\u001b[0m\u001b[0m\n\u001b[1;32m   4905\u001b[0m         \"\"\"\n\u001b[0;32m-> 4906\u001b[0;31m         return super().drop(\n\u001b[0m\u001b[1;32m   4907\u001b[0m             \u001b[0mlabels\u001b[0m\u001b[0;34m=\u001b[0m\u001b[0mlabels\u001b[0m\u001b[0;34m,\u001b[0m\u001b[0;34m\u001b[0m\u001b[0;34m\u001b[0m\u001b[0m\n\u001b[1;32m   4908\u001b[0m             \u001b[0maxis\u001b[0m\u001b[0;34m=\u001b[0m\u001b[0maxis\u001b[0m\u001b[0;34m,\u001b[0m\u001b[0;34m\u001b[0m\u001b[0;34m\u001b[0m\u001b[0m\n",
      "\u001b[0;32m~/ML-projects/env/lib/python3.8/site-packages/pandas/core/generic.py\u001b[0m in \u001b[0;36mdrop\u001b[0;34m(self, labels, axis, index, columns, level, inplace, errors)\u001b[0m\n\u001b[1;32m   4148\u001b[0m         \u001b[0;32mfor\u001b[0m \u001b[0maxis\u001b[0m\u001b[0;34m,\u001b[0m \u001b[0mlabels\u001b[0m \u001b[0;32min\u001b[0m \u001b[0maxes\u001b[0m\u001b[0;34m.\u001b[0m\u001b[0mitems\u001b[0m\u001b[0;34m(\u001b[0m\u001b[0;34m)\u001b[0m\u001b[0;34m:\u001b[0m\u001b[0;34m\u001b[0m\u001b[0;34m\u001b[0m\u001b[0m\n\u001b[1;32m   4149\u001b[0m             \u001b[0;32mif\u001b[0m \u001b[0mlabels\u001b[0m \u001b[0;32mis\u001b[0m \u001b[0;32mnot\u001b[0m \u001b[0;32mNone\u001b[0m\u001b[0;34m:\u001b[0m\u001b[0;34m\u001b[0m\u001b[0;34m\u001b[0m\u001b[0m\n\u001b[0;32m-> 4150\u001b[0;31m                 \u001b[0mobj\u001b[0m \u001b[0;34m=\u001b[0m \u001b[0mobj\u001b[0m\u001b[0;34m.\u001b[0m\u001b[0m_drop_axis\u001b[0m\u001b[0;34m(\u001b[0m\u001b[0mlabels\u001b[0m\u001b[0;34m,\u001b[0m \u001b[0maxis\u001b[0m\u001b[0;34m,\u001b[0m \u001b[0mlevel\u001b[0m\u001b[0;34m=\u001b[0m\u001b[0mlevel\u001b[0m\u001b[0;34m,\u001b[0m \u001b[0merrors\u001b[0m\u001b[0;34m=\u001b[0m\u001b[0merrors\u001b[0m\u001b[0;34m)\u001b[0m\u001b[0;34m\u001b[0m\u001b[0;34m\u001b[0m\u001b[0m\n\u001b[0m\u001b[1;32m   4151\u001b[0m \u001b[0;34m\u001b[0m\u001b[0m\n\u001b[1;32m   4152\u001b[0m         \u001b[0;32mif\u001b[0m \u001b[0minplace\u001b[0m\u001b[0;34m:\u001b[0m\u001b[0;34m\u001b[0m\u001b[0;34m\u001b[0m\u001b[0m\n",
      "\u001b[0;32m~/ML-projects/env/lib/python3.8/site-packages/pandas/core/generic.py\u001b[0m in \u001b[0;36m_drop_axis\u001b[0;34m(self, labels, axis, level, errors)\u001b[0m\n\u001b[1;32m   4183\u001b[0m                 \u001b[0mnew_axis\u001b[0m \u001b[0;34m=\u001b[0m \u001b[0maxis\u001b[0m\u001b[0;34m.\u001b[0m\u001b[0mdrop\u001b[0m\u001b[0;34m(\u001b[0m\u001b[0mlabels\u001b[0m\u001b[0;34m,\u001b[0m \u001b[0mlevel\u001b[0m\u001b[0;34m=\u001b[0m\u001b[0mlevel\u001b[0m\u001b[0;34m,\u001b[0m \u001b[0merrors\u001b[0m\u001b[0;34m=\u001b[0m\u001b[0merrors\u001b[0m\u001b[0;34m)\u001b[0m\u001b[0;34m\u001b[0m\u001b[0;34m\u001b[0m\u001b[0m\n\u001b[1;32m   4184\u001b[0m             \u001b[0;32melse\u001b[0m\u001b[0;34m:\u001b[0m\u001b[0;34m\u001b[0m\u001b[0;34m\u001b[0m\u001b[0m\n\u001b[0;32m-> 4185\u001b[0;31m                 \u001b[0mnew_axis\u001b[0m \u001b[0;34m=\u001b[0m \u001b[0maxis\u001b[0m\u001b[0;34m.\u001b[0m\u001b[0mdrop\u001b[0m\u001b[0;34m(\u001b[0m\u001b[0mlabels\u001b[0m\u001b[0;34m,\u001b[0m \u001b[0merrors\u001b[0m\u001b[0;34m=\u001b[0m\u001b[0merrors\u001b[0m\u001b[0;34m)\u001b[0m\u001b[0;34m\u001b[0m\u001b[0;34m\u001b[0m\u001b[0m\n\u001b[0m\u001b[1;32m   4186\u001b[0m             \u001b[0mresult\u001b[0m \u001b[0;34m=\u001b[0m \u001b[0mself\u001b[0m\u001b[0;34m.\u001b[0m\u001b[0mreindex\u001b[0m\u001b[0;34m(\u001b[0m\u001b[0;34m**\u001b[0m\u001b[0;34m{\u001b[0m\u001b[0maxis_name\u001b[0m\u001b[0;34m:\u001b[0m \u001b[0mnew_axis\u001b[0m\u001b[0;34m}\u001b[0m\u001b[0;34m)\u001b[0m\u001b[0;34m\u001b[0m\u001b[0;34m\u001b[0m\u001b[0m\n\u001b[1;32m   4187\u001b[0m \u001b[0;34m\u001b[0m\u001b[0m\n",
      "\u001b[0;32m~/ML-projects/env/lib/python3.8/site-packages/pandas/core/indexes/base.py\u001b[0m in \u001b[0;36mdrop\u001b[0;34m(self, labels, errors)\u001b[0m\n\u001b[1;32m   6015\u001b[0m         \u001b[0;32mif\u001b[0m \u001b[0mmask\u001b[0m\u001b[0;34m.\u001b[0m\u001b[0many\u001b[0m\u001b[0;34m(\u001b[0m\u001b[0;34m)\u001b[0m\u001b[0;34m:\u001b[0m\u001b[0;34m\u001b[0m\u001b[0;34m\u001b[0m\u001b[0m\n\u001b[1;32m   6016\u001b[0m             \u001b[0;32mif\u001b[0m \u001b[0merrors\u001b[0m \u001b[0;34m!=\u001b[0m \u001b[0;34m\"ignore\"\u001b[0m\u001b[0;34m:\u001b[0m\u001b[0;34m\u001b[0m\u001b[0;34m\u001b[0m\u001b[0m\n\u001b[0;32m-> 6017\u001b[0;31m                 \u001b[0;32mraise\u001b[0m \u001b[0mKeyError\u001b[0m\u001b[0;34m(\u001b[0m\u001b[0;34mf\"{labels[mask]} not found in axis\"\u001b[0m\u001b[0;34m)\u001b[0m\u001b[0;34m\u001b[0m\u001b[0;34m\u001b[0m\u001b[0m\n\u001b[0m\u001b[1;32m   6018\u001b[0m             \u001b[0mindexer\u001b[0m \u001b[0;34m=\u001b[0m \u001b[0mindexer\u001b[0m\u001b[0;34m[\u001b[0m\u001b[0;34m~\u001b[0m\u001b[0mmask\u001b[0m\u001b[0;34m]\u001b[0m\u001b[0;34m\u001b[0m\u001b[0;34m\u001b[0m\u001b[0m\n\u001b[1;32m   6019\u001b[0m         \u001b[0;32mreturn\u001b[0m \u001b[0mself\u001b[0m\u001b[0;34m.\u001b[0m\u001b[0mdelete\u001b[0m\u001b[0;34m(\u001b[0m\u001b[0mindexer\u001b[0m\u001b[0;34m)\u001b[0m\u001b[0;34m\u001b[0m\u001b[0;34m\u001b[0m\u001b[0m\n",
      "\u001b[0;31mKeyError\u001b[0m: \"['Age'] not found in axis\""
     ]
    }
   ],
   "source": [
    "# Let's Look at Qualified Leads\n",
    "\n",
    "df_qualified = df.query('Status == \"Qualified\"')\n",
    "df_qualified.drop('Age')\n",
    "df_qualified.head()"
   ]
  },
  {
   "cell_type": "code",
   "execution_count": 18,
   "id": "3f7dae03-5ba8-4a18-9dc4-2f9fa7cbe540",
   "metadata": {},
   "outputs": [
    {
     "data": {
      "image/png": "[encoded data removed]",
      "text/plain": [
       "<Figure size 720x576 with 4 Axes>"
      ]
     },
     "metadata": {},
     "output_type": "display_data"
    }
   ],
   "source": [
    "# Bucket Data and Look at Histograms\n",
    "attributes =['Age', 'Height', 'BMI', 'Face Amount']\n",
    "\n",
    "plt.figure(figsize=(10,8))\n",
    "\n",
    "for i in range(len(attributes)):\n",
    "    var = attributes[i]\n",
    "    s = df_qualified.groupby([var+' Bin']).count()[var]\n",
    "    #df_age = df_age.to_frame().reset_index()\n",
    "    X = [str(item).replace(', ',' - ').replace('(','').replace(']','') for item in s.index]\n",
    "    y = s.values\n",
    "    plt.subplot(2, 2, i+1)\n",
    "    plt.plot(X, y, color='#ffb81c')\n",
    "    plt.xticks(rotation = 45)\n",
    "    plt.title(var)\n",
    "    plt.ylabel('# Qualified')\n",
    "\n",
    "plt.tight_layout()\n",
    "plt.show()"
   ]
  },
  {
   "cell_type": "code",
   "execution_count": null,
   "id": "1aabad57-e7ae-4676-b5a9-896bb0399af8",
   "metadata": {},
   "outputs": [],
   "source": []
  }
 ],
 "metadata": {
  "kernelspec": {
   "display_name": "Python 3 (ipykernel)",
   "language": "python",
   "name": "python3"
  },
  "language_info": {
   "codemirror_mode": {
    "name": "ipython",
    "version": 3
   },
   "file_extension": ".py",
   "mimetype": "text/x-python",
   "name": "python",
   "nbconvert_exporter": "python",
   "pygments_lexer": "ipython3",
   "version": "3.8.10"
  }
 },
 "nbformat": 4,
 "nbformat_minor": 5
}
