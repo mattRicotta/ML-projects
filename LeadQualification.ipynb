{
 "cells": [
  {
   "cell_type": "markdown",
   "id": "e16a6129-fb71-4638-82c9-7ab33a10d0dd",
   "metadata": {
    "tags": []
   },
   "source": [
    "---\n",
    "## Random Forest: Lead Qualification\n",
    "\n",
    "Data set imported from Salesforce. Includes high quality leads (all data is populated) that have been either qualified or disqualified.\n"
   ]
  },
  {
   "cell_type": "code",
   "execution_count": 1,
   "id": "cdb5a3c8-3fc6-4330-aa46-7d08c3d9dd77",
   "metadata": {},
   "outputs": [
    {
     "name": "stdout",
     "output_type": "stream",
     "text": [
      "Index(['Age', 'Height', 'Weight', 'BMI', 'Face Amount', 'Health Status',\n",
      "       'Smoking Status', 'Status'],\n",
      "      dtype='object')\n"
     ]
    }
   ],
   "source": [
    "import pandas as pd\n",
    "import numpy as np\n",
    "\n",
    "#import the dataset\n",
    "df = pd.read_csv('./LeadQualification.csv')\n",
    "print(df.columns)\n",
    "                              "
   ]
  },
  {
   "cell_type": "markdown",
   "id": "2326d73e-de7b-470a-85dd-f9101b5e2384",
   "metadata": {},
   "source": [
    "### Select Data Set Metrics and Classifier"
   ]
  },
  {
   "cell_type": "code",
   "execution_count": 2,
   "id": "34f9cc7b-13a2-44dc-84c4-8db512ebd71b",
   "metadata": {},
   "outputs": [
    {
     "name": "stdout",
     "output_type": "stream",
     "text": [
      "Classifier: Status\n",
      "Attributes ['Age', 'Height', 'Weight', 'BMI', 'Face Amount', 'Health Status', 'Smoking Status']\n"
     ]
    }
   ],
   "source": [
    "# Create variables for metrics and classifier so we can use this on different data sets\n",
    "# Set the data we want to drop as drop_cols\n",
    "\n",
    "# Set our classifier\n",
    "classifier = 'Status'\n",
    "\n",
    "# Set the rest of the fields as attributes\n",
    "attributes = [column for column in list(df.columns) if column != classifier]\n",
    "print(\"Classifier:\",classifier)\n",
    "print(\"Attributes\",attributes)\n",
    "\n",
    "# Set X and y\n",
    "X = df[attributes]\n",
    "y = df[classifier]\n"
   ]
  },
  {
   "cell_type": "code",
   "execution_count": 3,
   "id": "23a361bb",
   "metadata": {},
   "outputs": [
    {
     "data": {
      "text/html": [
       "<div>\n",
       "<style scoped>\n",
       "    .dataframe tbody tr th:only-of-type {\n",
       "        vertical-align: middle;\n",
       "    }\n",
       "\n",
       "    .dataframe tbody tr th {\n",
       "        vertical-align: top;\n",
       "    }\n",
       "\n",
       "    .dataframe thead th {\n",
       "        text-align: right;\n",
       "    }\n",
       "</style>\n",
       "<table border=\"1\" class=\"dataframe\">\n",
       "  <thead>\n",
       "    <tr style=\"text-align: right;\">\n",
       "      <th></th>\n",
       "      <th>Age</th>\n",
       "      <th>Height</th>\n",
       "      <th>Weight</th>\n",
       "      <th>BMI</th>\n",
       "      <th>Face Amount</th>\n",
       "    </tr>\n",
       "  </thead>\n",
       "  <tbody>\n",
       "    <tr>\n",
       "      <th>count</th>\n",
       "      <td>125.000000</td>\n",
       "      <td>125.000000</td>\n",
       "      <td>125.000000</td>\n",
       "      <td>125.000000</td>\n",
       "      <td>125.000000</td>\n",
       "    </tr>\n",
       "    <tr>\n",
       "      <th>mean</th>\n",
       "      <td>69.632000</td>\n",
       "      <td>67.488000</td>\n",
       "      <td>187.960000</td>\n",
       "      <td>28.836800</td>\n",
       "      <td>198050.024000</td>\n",
       "    </tr>\n",
       "    <tr>\n",
       "      <th>std</th>\n",
       "      <td>7.884791</td>\n",
       "      <td>3.828198</td>\n",
       "      <td>44.789904</td>\n",
       "      <td>5.583808</td>\n",
       "      <td>154237.679316</td>\n",
       "    </tr>\n",
       "    <tr>\n",
       "      <th>min</th>\n",
       "      <td>52.000000</td>\n",
       "      <td>60.000000</td>\n",
       "      <td>98.000000</td>\n",
       "      <td>17.750000</td>\n",
       "      <td>10000.000000</td>\n",
       "    </tr>\n",
       "    <tr>\n",
       "      <th>25%</th>\n",
       "      <td>63.000000</td>\n",
       "      <td>64.000000</td>\n",
       "      <td>157.000000</td>\n",
       "      <td>25.600000</td>\n",
       "      <td>100000.000000</td>\n",
       "    </tr>\n",
       "    <tr>\n",
       "      <th>50%</th>\n",
       "      <td>70.000000</td>\n",
       "      <td>68.000000</td>\n",
       "      <td>180.000000</td>\n",
       "      <td>28.240000</td>\n",
       "      <td>150000.000000</td>\n",
       "    </tr>\n",
       "    <tr>\n",
       "      <th>75%</th>\n",
       "      <td>75.000000</td>\n",
       "      <td>70.000000</td>\n",
       "      <td>217.000000</td>\n",
       "      <td>32.480000</td>\n",
       "      <td>250000.000000</td>\n",
       "    </tr>\n",
       "    <tr>\n",
       "      <th>max</th>\n",
       "      <td>100.000000</td>\n",
       "      <td>78.000000</td>\n",
       "      <td>329.000000</td>\n",
       "      <td>48.580000</td>\n",
       "      <td>1000000.000000</td>\n",
       "    </tr>\n",
       "  </tbody>\n",
       "</table>\n",
       "</div>"
      ],
      "text/plain": [
       "              Age      Height      Weight         BMI     Face Amount\n",
       "count  125.000000  125.000000  125.000000  125.000000      125.000000\n",
       "mean    69.632000   67.488000  187.960000   28.836800   198050.024000\n",
       "std      7.884791    3.828198   44.789904    5.583808   154237.679316\n",
       "min     52.000000   60.000000   98.000000   17.750000    10000.000000\n",
       "25%     63.000000   64.000000  157.000000   25.600000   100000.000000\n",
       "50%     70.000000   68.000000  180.000000   28.240000   150000.000000\n",
       "75%     75.000000   70.000000  217.000000   32.480000   250000.000000\n",
       "max    100.000000   78.000000  329.000000   48.580000  1000000.000000"
      ]
     },
     "execution_count": 3,
     "metadata": {},
     "output_type": "execute_result"
    }
   ],
   "source": [
    "df.describe()"
   ]
  },
  {
   "cell_type": "code",
   "execution_count": 4,
   "id": "d053a9b9",
   "metadata": {},
   "outputs": [
    {
     "name": "stdout",
     "output_type": "stream",
     "text": [
      "<class 'pandas.core.frame.DataFrame'>\n",
      "RangeIndex: 125 entries, 0 to 124\n",
      "Data columns (total 8 columns):\n",
      " #   Column          Non-Null Count  Dtype  \n",
      "---  ------          --------------  -----  \n",
      " 0   Age             125 non-null    float64\n",
      " 1   Height          125 non-null    float64\n",
      " 2   Weight          125 non-null    float64\n",
      " 3   BMI             125 non-null    float64\n",
      " 4   Face Amount     125 non-null    float64\n",
      " 5   Health Status   125 non-null    object \n",
      " 6   Smoking Status  125 non-null    object \n",
      " 7   Status          125 non-null    object \n",
      "dtypes: float64(5), object(3)\n",
      "memory usage: 7.9+ KB\n"
     ]
    }
   ],
   "source": [
    "df.info()"
   ]
  },
  {
   "cell_type": "markdown",
   "id": "53eb6e5c-3f4c-4d93-bf6b-f36d922de4a7",
   "metadata": {},
   "source": [
    "### Category Fields\n",
    "Let's convert our object fields into the category datatype."
   ]
  },
  {
   "cell_type": "code",
   "execution_count": 5,
   "id": "934db7e2-dda9-429f-b9de-256236e5353a",
   "metadata": {},
   "outputs": [
    {
     "name": "stdout",
     "output_type": "stream",
     "text": [
      "Health Status:  ['Slightly below average', 'Well below average', 'Average', 'Terminal', 'Above average']\n",
      "Categories (5, object): ['Above average', 'Average', 'Slightly below average', 'Terminal', 'Well below average']\n",
      "Smoking Status:  ['NonSmoker', 'Smoker']\n",
      "Categories (2, object): ['NonSmoker', 'Smoker']\n",
      "Status:  ['Disqualified', 'Qualified']\n",
      "Categories (2, object): ['Disqualified', 'Qualified']\n"
     ]
    }
   ],
   "source": [
    "#Convert object fields to category dtype\n",
    "\n",
    "object_fields = list(df.select_dtypes('object').columns)\n",
    "\n",
    "for field in object_fields:\n",
    "    df[field] = df[field].astype('category')\n",
    "    print(field+': ', df[field].unique()) # print unique values for next step"
   ]
  },
  {
   "cell_type": "code",
   "execution_count": 6,
   "id": "f17af0c9",
   "metadata": {},
   "outputs": [
    {
     "data": {
      "text/html": [
       "<div>\n",
       "<style scoped>\n",
       "    .dataframe tbody tr th:only-of-type {\n",
       "        vertical-align: middle;\n",
       "    }\n",
       "\n",
       "    .dataframe tbody tr th {\n",
       "        vertical-align: top;\n",
       "    }\n",
       "\n",
       "    .dataframe thead th {\n",
       "        text-align: right;\n",
       "    }\n",
       "</style>\n",
       "<table border=\"1\" class=\"dataframe\">\n",
       "  <thead>\n",
       "    <tr style=\"text-align: right;\">\n",
       "      <th></th>\n",
       "      <th>Age</th>\n",
       "      <th>Height</th>\n",
       "      <th>Weight</th>\n",
       "      <th>BMI</th>\n",
       "      <th>Face Amount</th>\n",
       "      <th>Health Status</th>\n",
       "      <th>Smoking Status</th>\n",
       "      <th>Status</th>\n",
       "    </tr>\n",
       "  </thead>\n",
       "  <tbody>\n",
       "    <tr>\n",
       "      <th>0</th>\n",
       "      <td>77.0</td>\n",
       "      <td>78.0</td>\n",
       "      <td>220.0</td>\n",
       "      <td>25.42</td>\n",
       "      <td>200000.0</td>\n",
       "      <td>2.0</td>\n",
       "      <td>0.0</td>\n",
       "      <td>0.0</td>\n",
       "    </tr>\n",
       "    <tr>\n",
       "      <th>1</th>\n",
       "      <td>60.0</td>\n",
       "      <td>75.0</td>\n",
       "      <td>325.0</td>\n",
       "      <td>40.62</td>\n",
       "      <td>100000.0</td>\n",
       "      <td>1.0</td>\n",
       "      <td>1.0</td>\n",
       "      <td>0.0</td>\n",
       "    </tr>\n",
       "    <tr>\n",
       "      <th>2</th>\n",
       "      <td>59.0</td>\n",
       "      <td>75.0</td>\n",
       "      <td>275.0</td>\n",
       "      <td>34.37</td>\n",
       "      <td>200000.0</td>\n",
       "      <td>1.0</td>\n",
       "      <td>0.0</td>\n",
       "      <td>1.0</td>\n",
       "    </tr>\n",
       "    <tr>\n",
       "      <th>3</th>\n",
       "      <td>75.0</td>\n",
       "      <td>75.0</td>\n",
       "      <td>225.0</td>\n",
       "      <td>28.12</td>\n",
       "      <td>100000.0</td>\n",
       "      <td>3.0</td>\n",
       "      <td>0.0</td>\n",
       "      <td>0.0</td>\n",
       "    </tr>\n",
       "    <tr>\n",
       "      <th>4</th>\n",
       "      <td>61.0</td>\n",
       "      <td>74.0</td>\n",
       "      <td>220.0</td>\n",
       "      <td>28.24</td>\n",
       "      <td>350000.0</td>\n",
       "      <td>3.0</td>\n",
       "      <td>0.0</td>\n",
       "      <td>0.0</td>\n",
       "    </tr>\n",
       "  </tbody>\n",
       "</table>\n",
       "</div>"
      ],
      "text/plain": [
       "    Age  Height  Weight    BMI  Face Amount  Health Status  Smoking Status  \\\n",
       "0  77.0    78.0   220.0  25.42     200000.0            2.0             0.0   \n",
       "1  60.0    75.0   325.0  40.62     100000.0            1.0             1.0   \n",
       "2  59.0    75.0   275.0  34.37     200000.0            1.0             0.0   \n",
       "3  75.0    75.0   225.0  28.12     100000.0            3.0             0.0   \n",
       "4  61.0    74.0   220.0  28.24     350000.0            3.0             0.0   \n",
       "\n",
       "   Status  \n",
       "0     0.0  \n",
       "1     0.0  \n",
       "2     1.0  \n",
       "3     0.0  \n",
       "4     0.0  "
      ]
     },
     "execution_count": 6,
     "metadata": {},
     "output_type": "execute_result"
    }
   ],
   "source": [
    "# Convert Health and Smoking Status into number values\n",
    "# Specify the order for  our category fields\n",
    "\n",
    "health = ['Terminal', 'Well below average', 'Slightly below average', 'Average', 'Above average']\n",
    "smoke = ['NonSmoker', 'Smoker']\n",
    "lead_status = ['Disqualified', 'Qualified']\n",
    "\n",
    "from sklearn.preprocessing import OrdinalEncoder\n",
    "ordinal = OrdinalEncoder(categories=[health, smoke, lead_status])\n",
    "ordinal.fit(df[['Health Status','Smoking Status','Status']])\n",
    "df[['Health Status','Smoking Status','Status']] = ordinal.transform(df[['Health Status','Smoking Status','Status']])\n",
    "df.head()"
   ]
  },
  {
   "cell_type": "markdown",
   "id": "284a2be6-22f5-4e18-8813-05d1199b46fc",
   "metadata": {},
   "source": [
    "## Split the data into training and test portions"
   ]
  },
  {
   "cell_type": "code",
   "execution_count": 7,
   "id": "9f8fd2df-12df-45d4-8ab3-0de0a0e09580",
   "metadata": {},
   "outputs": [],
   "source": [
    "from sklearn.model_selection import train_test_split\n",
    "\n",
    "\n",
    "X = df[attributes]\n",
    "y = df[classifier]\n",
    "\n",
    "X_train, X_test, y_train, y_test = train_test_split(X, y, test_size = 0.2) #training set size = 1-test_size"
   ]
  },
  {
   "cell_type": "code",
   "execution_count": 8,
   "id": "3eb0f427-e6ee-4dc3-bdaf-ef12839395d3",
   "metadata": {},
   "outputs": [
    {
     "data": {
      "text/html": [
       "<div>\n",
       "<style scoped>\n",
       "    .dataframe tbody tr th:only-of-type {\n",
       "        vertical-align: middle;\n",
       "    }\n",
       "\n",
       "    .dataframe tbody tr th {\n",
       "        vertical-align: top;\n",
       "    }\n",
       "\n",
       "    .dataframe thead th {\n",
       "        text-align: right;\n",
       "    }\n",
       "</style>\n",
       "<table border=\"1\" class=\"dataframe\">\n",
       "  <thead>\n",
       "    <tr style=\"text-align: right;\">\n",
       "      <th></th>\n",
       "      <th>Age</th>\n",
       "      <th>Height</th>\n",
       "      <th>Weight</th>\n",
       "      <th>BMI</th>\n",
       "      <th>Face Amount</th>\n",
       "      <th>Health Status</th>\n",
       "      <th>Smoking Status</th>\n",
       "    </tr>\n",
       "  </thead>\n",
       "  <tbody>\n",
       "    <tr>\n",
       "      <th>10</th>\n",
       "      <td>61.0</td>\n",
       "      <td>72.0</td>\n",
       "      <td>280.0</td>\n",
       "      <td>37.97</td>\n",
       "      <td>100000.0</td>\n",
       "      <td>3.0</td>\n",
       "      <td>1.0</td>\n",
       "    </tr>\n",
       "    <tr>\n",
       "      <th>6</th>\n",
       "      <td>77.0</td>\n",
       "      <td>74.0</td>\n",
       "      <td>160.0</td>\n",
       "      <td>20.54</td>\n",
       "      <td>50000.0</td>\n",
       "      <td>1.0</td>\n",
       "      <td>1.0</td>\n",
       "    </tr>\n",
       "    <tr>\n",
       "      <th>122</th>\n",
       "      <td>63.0</td>\n",
       "      <td>61.0</td>\n",
       "      <td>180.0</td>\n",
       "      <td>34.01</td>\n",
       "      <td>165000.0</td>\n",
       "      <td>3.0</td>\n",
       "      <td>0.0</td>\n",
       "    </tr>\n",
       "    <tr>\n",
       "      <th>44</th>\n",
       "      <td>63.0</td>\n",
       "      <td>69.0</td>\n",
       "      <td>329.0</td>\n",
       "      <td>48.58</td>\n",
       "      <td>150000.0</td>\n",
       "      <td>3.0</td>\n",
       "      <td>0.0</td>\n",
       "    </tr>\n",
       "    <tr>\n",
       "      <th>68</th>\n",
       "      <td>73.0</td>\n",
       "      <td>67.0</td>\n",
       "      <td>160.0</td>\n",
       "      <td>25.06</td>\n",
       "      <td>500000.0</td>\n",
       "      <td>3.0</td>\n",
       "      <td>0.0</td>\n",
       "    </tr>\n",
       "  </tbody>\n",
       "</table>\n",
       "</div>"
      ],
      "text/plain": [
       "      Age  Height  Weight    BMI  Face Amount  Health Status  Smoking Status\n",
       "10   61.0    72.0   280.0  37.97     100000.0            3.0             1.0\n",
       "6    77.0    74.0   160.0  20.54      50000.0            1.0             1.0\n",
       "122  63.0    61.0   180.0  34.01     165000.0            3.0             0.0\n",
       "44   63.0    69.0   329.0  48.58     150000.0            3.0             0.0\n",
       "68   73.0    67.0   160.0  25.06     500000.0            3.0             0.0"
      ]
     },
     "execution_count": 8,
     "metadata": {},
     "output_type": "execute_result"
    }
   ],
   "source": [
    "#show metrics\n",
    "\n",
    "X_train.head() #first 5 rows"
   ]
  },
  {
   "cell_type": "code",
   "execution_count": 9,
   "id": "e8602297-9759-4a6f-85f8-d537c24fc528",
   "metadata": {},
   "outputs": [
    {
     "data": {
      "text/plain": [
       "10     0.0\n",
       "6      0.0\n",
       "122    0.0\n",
       "44     0.0\n",
       "68     0.0\n",
       "Name: Status, dtype: float64"
      ]
     },
     "execution_count": 9,
     "metadata": {},
     "output_type": "execute_result"
    }
   ],
   "source": [
    "#show quality scores\n",
    "\n",
    "y_train.head() #prints out first 5 rows"
   ]
  },
  {
   "cell_type": "markdown",
   "id": "9cfdfbf4-e603-4013-85fd-912683f892ef",
   "metadata": {},
   "source": [
    "## Training the Model"
   ]
  },
  {
   "cell_type": "code",
   "execution_count": 10,
   "id": "27d42541-d04f-4b48-8338-4c720ae08b3e",
   "metadata": {},
   "outputs": [
    {
     "name": "stdout",
     "output_type": "stream",
     "text": [
      "Parameters:\n",
      "\n",
      "     bootstrap = True,\n",
      "     ccp_alpha = 0.0,\n",
      "     class_weight = None,\n",
      "     criterion = gini,\n",
      "     max_depth = None,\n",
      "     max_features = 7,\n",
      "     max_leaf_nodes = None,\n",
      "     max_samples = None,\n",
      "     min_impurity_decrease = 0.0,\n",
      "     min_samples_leaf = 1,\n",
      "     min_samples_split = 2,\n",
      "     min_weight_fraction_leaf = 0.0,\n",
      "     n_estimators = 100,\n",
      "     n_jobs = None,\n",
      "     oob_score = False,\n",
      "     random_state = 6,\n",
      "     verbose = 0,\n",
      "     warm_start = False,\n"
     ]
    }
   ],
   "source": [
    "#Import Random Forest Model\n",
    "from sklearn.ensemble import RandomForestClassifier as rf\n",
    "\n",
    "#Create a Gaussian Classifier with hyperparameters\n",
    "clf=rf(n_estimators=100, max_features=7, random_state=6)\n",
    "\n",
    "#View Current Parameters\n",
    "print('Parameters:\\n')\n",
    "for param, value in clf.get_params().items():\n",
    "    print('    ',param,'=',str(value)+',')\n",
    "\n",
    "\n",
    "#Train the model using the training sets\n",
    "clf.fit(X_train, y_train)\n",
    "\n",
    "y_pred=clf.predict(X_test)"
   ]
  },
  {
   "cell_type": "markdown",
   "id": "0bf497f5-2672-4675-ba49-e4af16460b54",
   "metadata": {},
   "source": [
    "## Evaluate the Model"
   ]
  },
  {
   "cell_type": "code",
   "execution_count": 11,
   "id": "b92b4a3c-a42c-4073-9d2f-c3de32119200",
   "metadata": {},
   "outputs": [
    {
     "name": "stdout",
     "output_type": "stream",
     "text": [
      "Accuracy: 72.0%\n"
     ]
    }
   ],
   "source": [
    "#Import Scikit-Learn metrics module for accuracy calculation\n",
    "from sklearn import metrics\n",
    "\n",
    "#Model Accuracy -- how often is the classifier correct?\n",
    "print(\"Accuracy:\",str(round(metrics.accuracy_score(y_test, y_pred)*100,2))+'%')"
   ]
  },
  {
   "cell_type": "markdown",
   "id": "efd78c1b-cc8b-4a17-bb10-7d31c0d03b4b",
   "metadata": {},
   "source": [
    "### What Drives the Model's Decision Making Abilities?"
   ]
  },
  {
   "cell_type": "code",
   "execution_count": 12,
   "id": "d885c568-b18e-4629-afeb-ec866926917b",
   "metadata": {},
   "outputs": [],
   "source": [
    "#Feature importance with Pandas\n",
    "#Order by importance\n",
    "feature_imp = pd.Series(clf.feature_importances_, index=attributes).sort_values(ascending=True)"
   ]
  },
  {
   "cell_type": "code",
   "execution_count": 13,
   "id": "70fd7e4c-c120-43d8-bf84-8f44b277f6f6",
   "metadata": {},
   "outputs": [
    {
     "data": {
      "image/png": "[encoded data removed]",
      "text/plain": [
       "<Figure size 432x288 with 1 Axes>"
      ]
     },
     "metadata": {},
     "output_type": "display_data"
    }
   ],
   "source": [
    "#Plot the data\n",
    "from matplotlib import pyplot as plt, ticker as mtick\n",
    "\n",
    "#format the graph\n",
    "plt.style.use('dark_background')\n",
    "fig, ax = plt.subplots()\n",
    "fig.patch.set_facecolor('#111111')\n",
    "ax.patch.set_facecolor('#111111')\n",
    "ax.xaxis.set_major_formatter(mtick.PercentFormatter(1))\n",
    "\n",
    "#plot the data\n",
    "ax.barh(feature_imp.index, feature_imp.values, color='#ffb81c')\n",
    "plt.show()\n"
   ]
  },
  {
   "cell_type": "markdown",
   "id": "1ee48afe-2ddd-4e06-82fa-57751b4cf056",
   "metadata": {},
   "source": [
    "### Let's Test a New Lead: Does Our Model Qualify Them?"
   ]
  },
  {
   "cell_type": "code",
   "execution_count": 14,
   "id": "35059159-d96d-4470-ab36-65192dcc3c04",
   "metadata": {},
   "outputs": [
    {
     "name": "stdout",
     "output_type": "stream",
     "text": [
      "   Age  Height  Weight   BMI  Face Amount  Health Status  Smoking Status\n",
      "0   80      70     250  35.9      1000000              0               1\n",
      "Lead Qualified\n"
     ]
    }
   ],
   "source": [
    "# Create a new Lead to test\n",
    "# Attribute Order: 'Age', 'Height', 'Weight', 'BMI', 'Face Amount', 'Health Status', 'Smoking Status'\n",
    "test_lead = {\n",
    "    'Age':80,\n",
    "    'Height':70,\n",
    "    'Weight':250,\n",
    "    'BMI':35.9,\n",
    "    'Face Amount':1000000,\n",
    "    'Health Status':0,\n",
    "    'Smoking Status':1\n",
    "}\n",
    "\n",
    "lead_df = pd.DataFrame.from_dict([test_lead])\n",
    "\n",
    "#lead_df[['Health Status', 'Smoking Status']] = ordinal.transform(lead_df[['Health Status', 'Smoking Status']])\n",
    "predicted_score = clf.predict(lead_df)\n",
    "\n",
    "print(lead_df.head())\n",
    "print(\"Lead\",lead_status[int(predicted_score)])"
   ]
  },
  {
   "cell_type": "code",
   "execution_count": 15,
   "id": "b5d5b244-d145-426b-b39b-9615dadb4669",
   "metadata": {},
   "outputs": [],
   "source": [
    "# Reverse transform our category columns\n",
    "#df[['Health Status', 'Smoking Status', 'Status']] = ordinal.inverse_transform(df[['Health Status', 'Smoking Status', 'Status']])"
   ]
  },
  {
   "cell_type": "code",
   "execution_count": 16,
   "id": "5cea8633-8b68-472b-8263-6508749aae09",
   "metadata": {},
   "outputs": [
    {
     "data": {
      "image/png": "[encoded data removed]",
      "text/plain": [
       "<Figure size 720x576 with 4 Axes>"
      ]
     },
     "metadata": {},
     "output_type": "display_data"
    }
   ],
   "source": [
    "# Look at Attributes Individually\n",
    "\n",
    "plt.figure(figsize=(10,8))\n",
    "\n",
    "plt.subplot(2, 2, 1)\n",
    "plt.scatter(df['Status'], df['Age'], alpha=0.4, color='#ffb81c')\n",
    "plt.title('Age')\n",
    "\n",
    "plt.subplot(2, 2, 2)\n",
    "plt.scatter(df['Status'], df['Height'], alpha=0.4, color='#ffb81c')\n",
    "plt.title('Height')\n",
    "\n",
    "plt.subplot(2, 2, 3)\n",
    "plt.scatter(df['Status'], df['BMI'], alpha=0.4, color='#ffb81c')\n",
    "plt.title('BMI')\n",
    "\n",
    "plt.subplot(2, 2, 4)\n",
    "plt.scatter(df['Status'], df['Face Amount'], alpha=0.4, color='#ffb81c')\n",
    "plt.title('Face Amount')\n",
    "\n",
    "plt.tight_layout()\n",
    "plt.show()\n"
   ]
  },
  {
   "cell_type": "code",
   "execution_count": 17,
   "id": "7a798891-0b52-46af-b249-d3b3b8dcd7ab",
   "metadata": {},
   "outputs": [
    {
     "data": {
      "image/png": "[encoded data removed]",
      "text/plain": [
       "<Figure size 432x288 with 1 Axes>"
      ]
     },
     "metadata": {},
     "output_type": "display_data"
    }
   ],
   "source": [
    "plt.scatter(df['Status'], df['Health Status'], alpha=0.4, color='#ffb81c')\n",
    "plt.title('Health Status')\n",
    "plt.show()"
   ]
  },
  {
   "cell_type": "code",
   "execution_count": 18,
   "id": "615b63ae-5621-4cb9-9af3-8c9077357ae8",
   "metadata": {},
   "outputs": [
    {
     "data": {
      "text/plain": [
       "Status        Smoking Status\n",
       "Disqualified  NonSmoker         91\n",
       "              Smoker            14\n",
       "Qualified     NonSmoker         17\n",
       "              Smoker             3\n",
       "dtype: int64"
      ]
     },
     "execution_count": 18,
     "metadata": {},
     "output_type": "execute_result"
    }
   ],
   "source": [
    "df[['Health Status', 'Smoking Status', 'Status']] = ordinal.inverse_transform(df[['Health Status', 'Smoking Status', 'Status']])\n",
    "\n",
    "df[['Status', 'Smoking Status']].value_counts().sort_index()"
   ]
  },
  {
   "cell_type": "code",
   "execution_count": 19,
   "id": "6ce7a82a-a610-49df-9c11-d1033cde7395",
   "metadata": {},
   "outputs": [
    {
     "data": {
      "text/plain": [
       "Status        Health Status         \n",
       "Disqualified  Above average             28\n",
       "              Average                   54\n",
       "              Slightly below average    11\n",
       "              Terminal                   2\n",
       "              Well below average        10\n",
       "Qualified     Above average              5\n",
       "              Average                    5\n",
       "              Slightly below average     5\n",
       "              Well below average         5\n",
       "dtype: int64"
      ]
     },
     "execution_count": 19,
     "metadata": {},
     "output_type": "execute_result"
    }
   ],
   "source": [
    "df[['Status', 'Health Status']].value_counts().sort_index()"
   ]
  },
  {
   "cell_type": "code",
   "execution_count": 20,
   "id": "c81814fc-7749-473a-a047-2a4cbc1dd057",
   "metadata": {},
   "outputs": [
    {
     "data": {
      "text/plain": [
       "Status        Height\n",
       "Qualified     75.0       1\n",
       "              72.0       1\n",
       "              71.0       1\n",
       "              70.0       2\n",
       "              69.0       2\n",
       "              68.0       3\n",
       "              67.0       1\n",
       "              66.0       2\n",
       "              64.0       2\n",
       "              63.0       1\n",
       "              62.0       1\n",
       "              61.0       2\n",
       "              60.0       1\n",
       "Disqualified  78.0       1\n",
       "              75.0       2\n",
       "              74.0       3\n",
       "              73.0       3\n",
       "              72.0       9\n",
       "              71.0      10\n",
       "              70.0      10\n",
       "              69.0       7\n",
       "              68.0       8\n",
       "              67.0       7\n",
       "              66.0      10\n",
       "              65.0       7\n",
       "              64.0      13\n",
       "              63.0       4\n",
       "              62.0       9\n",
       "              61.0       2\n",
       "dtype: int64"
      ]
     },
     "execution_count": 20,
     "metadata": {},
     "output_type": "execute_result"
    }
   ],
   "source": [
    "df[['Status', 'Height']].value_counts().sort_index(ascending=False)"
   ]
  },
  {
   "cell_type": "code",
   "execution_count": null,
   "id": "1d91304e-c711-4701-bd69-022cb219e89c",
   "metadata": {},
   "outputs": [],
   "source": []
  }
 ],
 "metadata": {
  "kernelspec": {
   "display_name": "Python 3 (ipykernel)",
   "language": "python",
   "name": "python3"
  },
  "language_info": {
   "codemirror_mode": {
    "name": "ipython",
    "version": 3
   },
   "file_extension": ".py",
   "mimetype": "text/x-python",
   "name": "python",
   "nbconvert_exporter": "python",
   "pygments_lexer": "ipython3",
   "version": "3.8.10"
  }
 },
 "nbformat": 4,
 "nbformat_minor": 5
}
